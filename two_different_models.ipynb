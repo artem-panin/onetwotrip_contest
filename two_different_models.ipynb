{
 "cells": [
  {
   "cell_type": "code",
   "execution_count": 30,
   "metadata": {},
   "outputs": [],
   "source": [
    "import pandas as pd\n",
    "from sklearn.model_selection import StratifiedKFold\n",
    "import lightgbm as lgb\n",
    "from sklearn.preprocessing import LabelEncoder\n",
    "\n",
    "import pandas_profiling\n",
    "from tqdm import tqdm_notebook\n",
    "import numpy as np\n",
    "%matplotlib inline"
   ]
  },
  {
   "cell_type": "code",
   "execution_count": 31,
   "metadata": {
    "scrolled": true
   },
   "outputs": [],
   "source": [
    "df_train = pd.read_csv('onetwotrip_challenge_train.csv')\n",
    "df_test = pd.read_csv('onetwotrip_challenge_test.csv')"
   ]
  },
  {
   "cell_type": "code",
   "execution_count": 32,
   "metadata": {},
   "outputs": [],
   "source": [
    "ltr = len(df_train)\n",
    "df_train = df_train.sort_values(by=['userid', 'field4'])\n",
    "df_test = df_test.sort_values(by=['userid', 'field4'])\n",
    "df_test['orderid'] += ltr"
   ]
  },
  {
   "cell_type": "code",
   "execution_count": 33,
   "metadata": {
    "scrolled": false
   },
   "outputs": [
    {
     "name": "stderr",
     "output_type": "stream",
     "text": [
      "/Users/arty/anaconda3/lib/python3.7/site-packages/ipykernel_launcher.py:1: FutureWarning: Sorting because non-concatenation axis is not aligned. A future version\n",
      "of pandas will change to not sort by default.\n",
      "\n",
      "To accept the future behavior, pass 'sort=False'.\n",
      "\n",
      "To retain the current behavior and silence the warning, pass 'sort=True'.\n",
      "\n",
      "  \"\"\"Entry point for launching an IPython kernel.\n"
     ]
    }
   ],
   "source": [
    "data = pd.concat([df_train, df_test], axis=0).reset_index(drop=True)"
   ]
  },
  {
   "cell_type": "code",
   "execution_count": 5,
   "metadata": {},
   "outputs": [],
   "source": [
    "data['userid'] = LabelEncoder().fit_transform(data['userid'])"
   ]
  },
  {
   "cell_type": "code",
   "execution_count": 6,
   "metadata": {},
   "outputs": [],
   "source": [
    "data['order_diff'] = data['orderid'] - data.groupby('userid')['orderid'].shift()\n",
    "data['order_pct_change'] = data.groupby('userid')['orderid'].pct_change() \n",
    "data['order_diff_shift'] = data.groupby('userid')['order_diff'].shift(-1)\n",
    "data['diff_order_cumsum'] = data.groupby('userid')['order_diff'].cumsum()\n",
    "data['num_orders'] = data.groupby('userid')['userid'].transform('count')\n",
    "data['num_orders_bin'] = np.where(data['num_orders'] > 1, 1, 0)\n",
    "data['adult_pct'] = data['field24'] / data['field15']\n",
    "data['child_pct'] = data['field28'] / data['field15']\n",
    "data['baby_pct'] = data['field9'] / data['field15']\n",
    "data['is_first'] = np.where(data['field4'] == 1, 1, 0)\n",
    "data['first_order_diff'] = data.groupby('userid')['field0'].cumsum()\n",
    "data['field0_adj'] = data.groupby('userid')['field0'].apply(lambda x: x.replace(0, method='ffill'))"
   ]
  },
  {
   "cell_type": "raw",
   "metadata": {},
   "source": [
    "%timeit data['diff_order'] = data.groupby('userid')['orderid'].diff()\n",
    "%timeit data['diff_order'] = data['orderid'] - data.groupby('userid')['orderid'].shift()\n",
    "%timeit data['order_pct_change'] = data.groupby('userid')['orderid'].pct_change() "
   ]
  },
  {
   "cell_type": "code",
   "execution_count": 7,
   "metadata": {
    "scrolled": true
   },
   "outputs": [
    {
     "data": {
      "application/vnd.jupyter.widget-view+json": {
       "model_id": "77b570b7a4cd4a7ba1310451063d2530",
       "version_major": 2,
       "version_minor": 0
      },
      "text/plain": [
       "HBox(children=(IntProgress(value=0, max=48), HTML(value='')))"
      ]
     },
     "metadata": {},
     "output_type": "display_data"
    },
    {
     "name": "stdout",
     "output_type": "stream",
     "text": [
      "\n"
     ]
    }
   ],
   "source": [
    "target_cols = list(set(data.columns) - {'goal1', 'goal21', 'goal22', 'goal23', 'goal24', 'goal25', 'orderid'})\n",
    "for col in tqdm_notebook(target_cols):\n",
    "    data['vc_' + col] = data.groupby(col)[col].transform(\"count\")\n",
    "    data['mean_' + col] = data.groupby(col)[col].transform(\"mean\")\n",
    "    data['std_' + col] = data.groupby(col)[col].transform(\"std\")\n",
    "    data['prev_' + col] = data.groupby('userid')[col].shift(1)\n",
    "    data['next_' + col] = data.groupby('userid')[col].shift(-1)\n",
    "    data['prev2_' + col] = data.groupby('userid')[col].shift(2)\n",
    "    data['next2_' + col] = data.groupby('userid')[col].shift(-2)\n",
    "    data['prev3_' + col] = data.groupby('userid')[col].shift(3)\n",
    "    data['next3_' + col] = data.groupby('userid')[col].shift(-3)\n",
    "    data['cnt_userid_' + col] = data['userid'].map(data.groupby('userid')[col].apply(lambda x: x.unique().size).to_dict())\n",
    "    data['ratio_userid_' + col] = data['userid'].map(data.groupby('userid')[col].apply(lambda x: x.unique().size / len(x)).to_dict())"
   ]
  },
  {
   "cell_type": "code",
   "execution_count": 8,
   "metadata": {},
   "outputs": [],
   "source": [
    "categorical_cols = ['field2', 'field3', 'field5', 'field7', 'field8', 'field9', 'field10', 'field18', 'field19', \n",
    "                    'field20', 'field21', 'field24', 'field27', 'field28', 'field29', 'indicator_goal21', \n",
    "                    'indicator_goal22', 'indicator_goal23', 'indicator_goal24', 'indicator_goal25']"
   ]
  },
  {
   "cell_type": "code",
   "execution_count": 9,
   "metadata": {},
   "outputs": [],
   "source": [
    "def process_column(data, df_train, enc_col, col):\n",
    "    df_group = df_train.groupby(col)[enc_col]\n",
    "    building_mean = df_group.mean().astype(np.float16)\n",
    "    building_median = df_group.median().astype(np.float16)\n",
    "    building_min = df_group.min().astype(np.float16)\n",
    "    building_max = df_group.max().astype(np.float16)\n",
    "    building_std = df_group.std().astype(np.float16)\n",
    "\n",
    "    data[f'mean_{enc_col}_{col}'] = data[col].map(building_mean)\n",
    "#         data[f'median_enc_{col}'] = data[col].map(building_median)\n",
    "#         data[f'min_enc_{col}'] = data[col].map(building_min)\n",
    "#         data[f'max_enc_{col}'] = data[col].map(building_max)\n",
    "    data[f'std_{enc_col}_{col}'] = data[col].map(building_std)\n",
    "\n",
    "def feature_engineering(data, df_train):\n",
    "    for enc_col in ['goal1', 'goal21', 'goal22', 'goal23', 'goal24', 'goal25']:\n",
    "        for col in tqdm_notebook(categorical_cols):\n",
    "            process_column(data, df_train, enc_col, col)\n",
    "    return data"
   ]
  },
  {
   "cell_type": "code",
   "execution_count": 10,
   "metadata": {},
   "outputs": [],
   "source": [
    "excluded_cols = {'goal1', 'goal21', 'goal22', 'goal23', 'goal24', 'goal25'}\n",
    "train_cols = list(set(data.columns) - excluded_cols)"
   ]
  },
  {
   "cell_type": "code",
   "execution_count": 11,
   "metadata": {},
   "outputs": [],
   "source": [
    "data_single = data[data['num_orders_bin'] == 0]\n",
    "train_idx_single = data_single[~data_single['goal1'].isna()].index\n",
    "test_idx_single = data_single[data_single['goal1'].isna()].index"
   ]
  },
  {
   "cell_type": "code",
   "execution_count": 12,
   "metadata": {
    "scrolled": true
   },
   "outputs": [
    {
     "data": {
      "application/vnd.jupyter.widget-view+json": {
       "model_id": "695bb866c54c4177b9d8949d768cf1da",
       "version_major": 2,
       "version_minor": 0
      },
      "text/plain": [
       "HBox(children=(IntProgress(value=0, max=20), HTML(value='')))"
      ]
     },
     "metadata": {},
     "output_type": "display_data"
    },
    {
     "name": "stdout",
     "output_type": "stream",
     "text": [
      "\n"
     ]
    },
    {
     "data": {
      "application/vnd.jupyter.widget-view+json": {
       "model_id": "68372e8c74bc4b4f9fed40145b667eee",
       "version_major": 2,
       "version_minor": 0
      },
      "text/plain": [
       "HBox(children=(IntProgress(value=0, max=20), HTML(value='')))"
      ]
     },
     "metadata": {},
     "output_type": "display_data"
    },
    {
     "name": "stdout",
     "output_type": "stream",
     "text": [
      "\n"
     ]
    },
    {
     "data": {
      "application/vnd.jupyter.widget-view+json": {
       "model_id": "7080d32969fe463a8d159729739b563d",
       "version_major": 2,
       "version_minor": 0
      },
      "text/plain": [
       "HBox(children=(IntProgress(value=0, max=20), HTML(value='')))"
      ]
     },
     "metadata": {},
     "output_type": "display_data"
    },
    {
     "name": "stdout",
     "output_type": "stream",
     "text": [
      "\n"
     ]
    },
    {
     "data": {
      "application/vnd.jupyter.widget-view+json": {
       "model_id": "e2bff8c274bd4a9daa31e02d649ccdc2",
       "version_major": 2,
       "version_minor": 0
      },
      "text/plain": [
       "HBox(children=(IntProgress(value=0, max=20), HTML(value='')))"
      ]
     },
     "metadata": {},
     "output_type": "display_data"
    },
    {
     "name": "stdout",
     "output_type": "stream",
     "text": [
      "\n"
     ]
    },
    {
     "data": {
      "application/vnd.jupyter.widget-view+json": {
       "model_id": "9dc6038d22c74c3ebb34196d072c7cd1",
       "version_major": 2,
       "version_minor": 0
      },
      "text/plain": [
       "HBox(children=(IntProgress(value=0, max=20), HTML(value='')))"
      ]
     },
     "metadata": {},
     "output_type": "display_data"
    },
    {
     "name": "stdout",
     "output_type": "stream",
     "text": [
      "\n"
     ]
    },
    {
     "data": {
      "application/vnd.jupyter.widget-view+json": {
       "model_id": "ff153f49afed4938a23b5da64d4b7de3",
       "version_major": 2,
       "version_minor": 0
      },
      "text/plain": [
       "HBox(children=(IntProgress(value=0, max=20), HTML(value='')))"
      ]
     },
     "metadata": {},
     "output_type": "display_data"
    },
    {
     "name": "stdout",
     "output_type": "stream",
     "text": [
      "\n",
      "Training until validation scores don't improve for 500 rounds.\n",
      "[100]\tvalid_0's auc: 0.694391\n",
      "[200]\tvalid_0's auc: 0.705248\n",
      "[300]\tvalid_0's auc: 0.709845\n",
      "[400]\tvalid_0's auc: 0.711579\n",
      "[500]\tvalid_0's auc: 0.708383\n",
      "[600]\tvalid_0's auc: 0.707868\n",
      "[700]\tvalid_0's auc: 0.706854\n",
      "[800]\tvalid_0's auc: 0.703439\n",
      "Early stopping, best iteration is:\n",
      "[328]\tvalid_0's auc: 0.712717\n"
     ]
    },
    {
     "data": {
      "application/vnd.jupyter.widget-view+json": {
       "model_id": "4a99a22a8c4d4e8581a95b997f337020",
       "version_major": 2,
       "version_minor": 0
      },
      "text/plain": [
       "HBox(children=(IntProgress(value=0, max=20), HTML(value='')))"
      ]
     },
     "metadata": {},
     "output_type": "display_data"
    },
    {
     "name": "stdout",
     "output_type": "stream",
     "text": [
      "\n"
     ]
    },
    {
     "data": {
      "application/vnd.jupyter.widget-view+json": {
       "model_id": "9a8c716ec9d8463c9ee2c7ad9da6e973",
       "version_major": 2,
       "version_minor": 0
      },
      "text/plain": [
       "HBox(children=(IntProgress(value=0, max=20), HTML(value='')))"
      ]
     },
     "metadata": {},
     "output_type": "display_data"
    },
    {
     "name": "stdout",
     "output_type": "stream",
     "text": [
      "\n"
     ]
    },
    {
     "data": {
      "application/vnd.jupyter.widget-view+json": {
       "model_id": "52618ccbc1b04fc6a5dff4da4faf9f5b",
       "version_major": 2,
       "version_minor": 0
      },
      "text/plain": [
       "HBox(children=(IntProgress(value=0, max=20), HTML(value='')))"
      ]
     },
     "metadata": {},
     "output_type": "display_data"
    },
    {
     "name": "stdout",
     "output_type": "stream",
     "text": [
      "\n"
     ]
    },
    {
     "data": {
      "application/vnd.jupyter.widget-view+json": {
       "model_id": "5b4f26a58ac24e2db1fc858ed5812654",
       "version_major": 2,
       "version_minor": 0
      },
      "text/plain": [
       "HBox(children=(IntProgress(value=0, max=20), HTML(value='')))"
      ]
     },
     "metadata": {},
     "output_type": "display_data"
    },
    {
     "name": "stdout",
     "output_type": "stream",
     "text": [
      "\n"
     ]
    },
    {
     "data": {
      "application/vnd.jupyter.widget-view+json": {
       "model_id": "6460816d6c5748dd82fc198c8ea9dab8",
       "version_major": 2,
       "version_minor": 0
      },
      "text/plain": [
       "HBox(children=(IntProgress(value=0, max=20), HTML(value='')))"
      ]
     },
     "metadata": {},
     "output_type": "display_data"
    },
    {
     "name": "stdout",
     "output_type": "stream",
     "text": [
      "\n"
     ]
    },
    {
     "data": {
      "application/vnd.jupyter.widget-view+json": {
       "model_id": "d8ba8d40971845d99581af0cf7058682",
       "version_major": 2,
       "version_minor": 0
      },
      "text/plain": [
       "HBox(children=(IntProgress(value=0, max=20), HTML(value='')))"
      ]
     },
     "metadata": {},
     "output_type": "display_data"
    },
    {
     "name": "stdout",
     "output_type": "stream",
     "text": [
      "\n",
      "Training until validation scores don't improve for 500 rounds.\n",
      "[100]\tvalid_0's auc: 0.722788\n",
      "[200]\tvalid_0's auc: 0.728564\n",
      "[300]\tvalid_0's auc: 0.736723\n",
      "[400]\tvalid_0's auc: 0.738736\n",
      "[500]\tvalid_0's auc: 0.740045\n",
      "[600]\tvalid_0's auc: 0.741584\n",
      "[700]\tvalid_0's auc: 0.744103\n",
      "[800]\tvalid_0's auc: 0.745288\n",
      "[900]\tvalid_0's auc: 0.745494\n",
      "[1000]\tvalid_0's auc: 0.744695\n",
      "[1100]\tvalid_0's auc: 0.7457\n",
      "[1200]\tvalid_0's auc: 0.745405\n",
      "[1300]\tvalid_0's auc: 0.744214\n",
      "Early stopping, best iteration is:\n",
      "[836]\tvalid_0's auc: 0.746969\n"
     ]
    },
    {
     "data": {
      "application/vnd.jupyter.widget-view+json": {
       "model_id": "f10ee92792a14a809e45ea9eb58fcd80",
       "version_major": 2,
       "version_minor": 0
      },
      "text/plain": [
       "HBox(children=(IntProgress(value=0, max=20), HTML(value='')))"
      ]
     },
     "metadata": {},
     "output_type": "display_data"
    },
    {
     "name": "stdout",
     "output_type": "stream",
     "text": [
      "\n"
     ]
    },
    {
     "data": {
      "application/vnd.jupyter.widget-view+json": {
       "model_id": "5541b663d5154cb7ab676a849072d638",
       "version_major": 2,
       "version_minor": 0
      },
      "text/plain": [
       "HBox(children=(IntProgress(value=0, max=20), HTML(value='')))"
      ]
     },
     "metadata": {},
     "output_type": "display_data"
    },
    {
     "name": "stdout",
     "output_type": "stream",
     "text": [
      "\n"
     ]
    },
    {
     "data": {
      "application/vnd.jupyter.widget-view+json": {
       "model_id": "d48c04c5def849448af978a9cbae5eef",
       "version_major": 2,
       "version_minor": 0
      },
      "text/plain": [
       "HBox(children=(IntProgress(value=0, max=20), HTML(value='')))"
      ]
     },
     "metadata": {},
     "output_type": "display_data"
    },
    {
     "name": "stdout",
     "output_type": "stream",
     "text": [
      "\n"
     ]
    },
    {
     "data": {
      "application/vnd.jupyter.widget-view+json": {
       "model_id": "6e19503a46544ba1a5ebb7a2b2f53384",
       "version_major": 2,
       "version_minor": 0
      },
      "text/plain": [
       "HBox(children=(IntProgress(value=0, max=20), HTML(value='')))"
      ]
     },
     "metadata": {},
     "output_type": "display_data"
    },
    {
     "name": "stdout",
     "output_type": "stream",
     "text": [
      "\n"
     ]
    },
    {
     "data": {
      "application/vnd.jupyter.widget-view+json": {
       "model_id": "5304fde5b00248dba04aef536c209cee",
       "version_major": 2,
       "version_minor": 0
      },
      "text/plain": [
       "HBox(children=(IntProgress(value=0, max=20), HTML(value='')))"
      ]
     },
     "metadata": {},
     "output_type": "display_data"
    },
    {
     "name": "stdout",
     "output_type": "stream",
     "text": [
      "\n"
     ]
    },
    {
     "data": {
      "application/vnd.jupyter.widget-view+json": {
       "model_id": "1e3ae02ebf2f409896399acb70cdb95e",
       "version_major": 2,
       "version_minor": 0
      },
      "text/plain": [
       "HBox(children=(IntProgress(value=0, max=20), HTML(value='')))"
      ]
     },
     "metadata": {},
     "output_type": "display_data"
    },
    {
     "name": "stdout",
     "output_type": "stream",
     "text": [
      "\n",
      "Training until validation scores don't improve for 500 rounds.\n",
      "[100]\tvalid_0's auc: 0.71839\n",
      "[200]\tvalid_0's auc: 0.72696\n",
      "[300]\tvalid_0's auc: 0.730747\n",
      "[400]\tvalid_0's auc: 0.728847\n",
      "[500]\tvalid_0's auc: 0.726704\n",
      "[600]\tvalid_0's auc: 0.724021\n",
      "[700]\tvalid_0's auc: 0.721825\n",
      "[800]\tvalid_0's auc: 0.720302\n",
      "Early stopping, best iteration is:\n",
      "[329]\tvalid_0's auc: 0.73138\n"
     ]
    },
    {
     "data": {
      "application/vnd.jupyter.widget-view+json": {
       "model_id": "a520968369dc4bdcae31a52d6ff36cf9",
       "version_major": 2,
       "version_minor": 0
      },
      "text/plain": [
       "HBox(children=(IntProgress(value=0, max=20), HTML(value='')))"
      ]
     },
     "metadata": {},
     "output_type": "display_data"
    },
    {
     "name": "stdout",
     "output_type": "stream",
     "text": [
      "\n"
     ]
    },
    {
     "data": {
      "application/vnd.jupyter.widget-view+json": {
       "model_id": "d1f59fd511604f63b8e9f6b655fa4358",
       "version_major": 2,
       "version_minor": 0
      },
      "text/plain": [
       "HBox(children=(IntProgress(value=0, max=20), HTML(value='')))"
      ]
     },
     "metadata": {},
     "output_type": "display_data"
    },
    {
     "name": "stdout",
     "output_type": "stream",
     "text": [
      "\n"
     ]
    },
    {
     "data": {
      "application/vnd.jupyter.widget-view+json": {
       "model_id": "1f8cdecf245648dbadaecc9d11de30b4",
       "version_major": 2,
       "version_minor": 0
      },
      "text/plain": [
       "HBox(children=(IntProgress(value=0, max=20), HTML(value='')))"
      ]
     },
     "metadata": {},
     "output_type": "display_data"
    },
    {
     "name": "stdout",
     "output_type": "stream",
     "text": [
      "\n"
     ]
    },
    {
     "data": {
      "application/vnd.jupyter.widget-view+json": {
       "model_id": "8d8ba9d9d1c140a7b49b497b5a9ad802",
       "version_major": 2,
       "version_minor": 0
      },
      "text/plain": [
       "HBox(children=(IntProgress(value=0, max=20), HTML(value='')))"
      ]
     },
     "metadata": {},
     "output_type": "display_data"
    },
    {
     "name": "stdout",
     "output_type": "stream",
     "text": [
      "\n"
     ]
    },
    {
     "data": {
      "application/vnd.jupyter.widget-view+json": {
       "model_id": "75bce642a63e4c0db26582bf5e168eef",
       "version_major": 2,
       "version_minor": 0
      },
      "text/plain": [
       "HBox(children=(IntProgress(value=0, max=20), HTML(value='')))"
      ]
     },
     "metadata": {},
     "output_type": "display_data"
    },
    {
     "name": "stdout",
     "output_type": "stream",
     "text": [
      "\n"
     ]
    },
    {
     "data": {
      "application/vnd.jupyter.widget-view+json": {
       "model_id": "62ce882bb9f34eb9a299b66aad150adc",
       "version_major": 2,
       "version_minor": 0
      },
      "text/plain": [
       "HBox(children=(IntProgress(value=0, max=20), HTML(value='')))"
      ]
     },
     "metadata": {},
     "output_type": "display_data"
    },
    {
     "name": "stdout",
     "output_type": "stream",
     "text": [
      "\n",
      "Training until validation scores don't improve for 500 rounds.\n",
      "[100]\tvalid_0's auc: 0.67883\n",
      "[200]\tvalid_0's auc: 0.686655\n",
      "[300]\tvalid_0's auc: 0.685863\n",
      "[400]\tvalid_0's auc: 0.682831\n",
      "[500]\tvalid_0's auc: 0.682296\n",
      "[600]\tvalid_0's auc: 0.681917\n",
      "Early stopping, best iteration is:\n",
      "[196]\tvalid_0's auc: 0.687442\n"
     ]
    },
    {
     "data": {
      "application/vnd.jupyter.widget-view+json": {
       "model_id": "b9193f2069644ccebef27b1f19aec5a6",
       "version_major": 2,
       "version_minor": 0
      },
      "text/plain": [
       "HBox(children=(IntProgress(value=0, max=20), HTML(value='')))"
      ]
     },
     "metadata": {},
     "output_type": "display_data"
    },
    {
     "name": "stdout",
     "output_type": "stream",
     "text": [
      "\n"
     ]
    },
    {
     "data": {
      "application/vnd.jupyter.widget-view+json": {
       "model_id": "88cc3908fa5e4425b9741508bf91505f",
       "version_major": 2,
       "version_minor": 0
      },
      "text/plain": [
       "HBox(children=(IntProgress(value=0, max=20), HTML(value='')))"
      ]
     },
     "metadata": {},
     "output_type": "display_data"
    },
    {
     "name": "stdout",
     "output_type": "stream",
     "text": [
      "\n"
     ]
    },
    {
     "data": {
      "application/vnd.jupyter.widget-view+json": {
       "model_id": "515b56c4324b43ebb8ce584a6cc0615a",
       "version_major": 2,
       "version_minor": 0
      },
      "text/plain": [
       "HBox(children=(IntProgress(value=0, max=20), HTML(value='')))"
      ]
     },
     "metadata": {},
     "output_type": "display_data"
    },
    {
     "name": "stdout",
     "output_type": "stream",
     "text": [
      "\n"
     ]
    },
    {
     "data": {
      "application/vnd.jupyter.widget-view+json": {
       "model_id": "b1abef327128450f9604bc9c280e85a5",
       "version_major": 2,
       "version_minor": 0
      },
      "text/plain": [
       "HBox(children=(IntProgress(value=0, max=20), HTML(value='')))"
      ]
     },
     "metadata": {},
     "output_type": "display_data"
    },
    {
     "name": "stdout",
     "output_type": "stream",
     "text": [
      "\n"
     ]
    },
    {
     "data": {
      "application/vnd.jupyter.widget-view+json": {
       "model_id": "eb595fb145744a178976bbae4dfb48bd",
       "version_major": 2,
       "version_minor": 0
      },
      "text/plain": [
       "HBox(children=(IntProgress(value=0, max=20), HTML(value='')))"
      ]
     },
     "metadata": {},
     "output_type": "display_data"
    },
    {
     "name": "stdout",
     "output_type": "stream",
     "text": [
      "\n"
     ]
    },
    {
     "data": {
      "application/vnd.jupyter.widget-view+json": {
       "model_id": "0888951c2868413da43f138d608e5e5a",
       "version_major": 2,
       "version_minor": 0
      },
      "text/plain": [
       "HBox(children=(IntProgress(value=0, max=20), HTML(value='')))"
      ]
     },
     "metadata": {},
     "output_type": "display_data"
    },
    {
     "name": "stdout",
     "output_type": "stream",
     "text": [
      "\n",
      "Training until validation scores don't improve for 500 rounds.\n",
      "[100]\tvalid_0's auc: 0.706254\n",
      "[200]\tvalid_0's auc: 0.719044\n",
      "[300]\tvalid_0's auc: 0.721556\n",
      "[400]\tvalid_0's auc: 0.721763\n",
      "[500]\tvalid_0's auc: 0.721753\n",
      "[600]\tvalid_0's auc: 0.721326\n",
      "[700]\tvalid_0's auc: 0.719631\n",
      "[800]\tvalid_0's auc: 0.717477\n",
      "Early stopping, best iteration is:\n",
      "[381]\tvalid_0's auc: 0.722938\n"
     ]
    },
    {
     "data": {
      "application/vnd.jupyter.widget-view+json": {
       "model_id": "3bff66149dc64619924a9b9a24f10574",
       "version_major": 2,
       "version_minor": 0
      },
      "text/plain": [
       "HBox(children=(IntProgress(value=0, max=20), HTML(value='')))"
      ]
     },
     "metadata": {},
     "output_type": "display_data"
    },
    {
     "name": "stdout",
     "output_type": "stream",
     "text": [
      "\n"
     ]
    },
    {
     "data": {
      "application/vnd.jupyter.widget-view+json": {
       "model_id": "30f594f459dc415db3b620eece732393",
       "version_major": 2,
       "version_minor": 0
      },
      "text/plain": [
       "HBox(children=(IntProgress(value=0, max=20), HTML(value='')))"
      ]
     },
     "metadata": {},
     "output_type": "display_data"
    },
    {
     "name": "stdout",
     "output_type": "stream",
     "text": [
      "\n"
     ]
    },
    {
     "data": {
      "application/vnd.jupyter.widget-view+json": {
       "model_id": "28fe81a1522646a68630e00f73f8a5e3",
       "version_major": 2,
       "version_minor": 0
      },
      "text/plain": [
       "HBox(children=(IntProgress(value=0, max=20), HTML(value='')))"
      ]
     },
     "metadata": {},
     "output_type": "display_data"
    },
    {
     "name": "stdout",
     "output_type": "stream",
     "text": [
      "\n"
     ]
    },
    {
     "data": {
      "application/vnd.jupyter.widget-view+json": {
       "model_id": "dcfcc3a1663c476e9211ddca6a4a9be6",
       "version_major": 2,
       "version_minor": 0
      },
      "text/plain": [
       "HBox(children=(IntProgress(value=0, max=20), HTML(value='')))"
      ]
     },
     "metadata": {},
     "output_type": "display_data"
    },
    {
     "name": "stdout",
     "output_type": "stream",
     "text": [
      "\n"
     ]
    },
    {
     "data": {
      "application/vnd.jupyter.widget-view+json": {
       "model_id": "d347d938b36b41e58b5ea1da5f5340c8",
       "version_major": 2,
       "version_minor": 0
      },
      "text/plain": [
       "HBox(children=(IntProgress(value=0, max=20), HTML(value='')))"
      ]
     },
     "metadata": {},
     "output_type": "display_data"
    },
    {
     "name": "stdout",
     "output_type": "stream",
     "text": [
      "\n"
     ]
    },
    {
     "data": {
      "application/vnd.jupyter.widget-view+json": {
       "model_id": "9ee6deffcb604f768a49fc5951fc412a",
       "version_major": 2,
       "version_minor": 0
      },
      "text/plain": [
       "HBox(children=(IntProgress(value=0, max=20), HTML(value='')))"
      ]
     },
     "metadata": {},
     "output_type": "display_data"
    },
    {
     "name": "stdout",
     "output_type": "stream",
     "text": [
      "\n",
      "Training until validation scores don't improve for 500 rounds.\n",
      "[100]\tvalid_0's auc: 0.70473\n",
      "[200]\tvalid_0's auc: 0.718773\n",
      "[300]\tvalid_0's auc: 0.727127\n",
      "[400]\tvalid_0's auc: 0.730513\n",
      "[500]\tvalid_0's auc: 0.731212\n",
      "[600]\tvalid_0's auc: 0.730154\n",
      "[700]\tvalid_0's auc: 0.730384\n",
      "[800]\tvalid_0's auc: 0.729086\n",
      "[900]\tvalid_0's auc: 0.727661\n",
      "Early stopping, best iteration is:\n",
      "[484]\tvalid_0's auc: 0.731772\n"
     ]
    },
    {
     "data": {
      "application/vnd.jupyter.widget-view+json": {
       "model_id": "6babd6833caa4bc1af249e170a61c939",
       "version_major": 2,
       "version_minor": 0
      },
      "text/plain": [
       "HBox(children=(IntProgress(value=0, max=20), HTML(value='')))"
      ]
     },
     "metadata": {},
     "output_type": "display_data"
    },
    {
     "name": "stdout",
     "output_type": "stream",
     "text": [
      "\n"
     ]
    },
    {
     "data": {
      "application/vnd.jupyter.widget-view+json": {
       "model_id": "8c8217a229d14e54ac623be63dea477f",
       "version_major": 2,
       "version_minor": 0
      },
      "text/plain": [
       "HBox(children=(IntProgress(value=0, max=20), HTML(value='')))"
      ]
     },
     "metadata": {},
     "output_type": "display_data"
    },
    {
     "name": "stdout",
     "output_type": "stream",
     "text": [
      "\n"
     ]
    },
    {
     "data": {
      "application/vnd.jupyter.widget-view+json": {
       "model_id": "ae7efd0c815448e0b31181cd74151980",
       "version_major": 2,
       "version_minor": 0
      },
      "text/plain": [
       "HBox(children=(IntProgress(value=0, max=20), HTML(value='')))"
      ]
     },
     "metadata": {},
     "output_type": "display_data"
    },
    {
     "name": "stdout",
     "output_type": "stream",
     "text": [
      "\n"
     ]
    },
    {
     "data": {
      "application/vnd.jupyter.widget-view+json": {
       "model_id": "b3f2e9acfdf04e9fbccda89794a9e0e6",
       "version_major": 2,
       "version_minor": 0
      },
      "text/plain": [
       "HBox(children=(IntProgress(value=0, max=20), HTML(value='')))"
      ]
     },
     "metadata": {},
     "output_type": "display_data"
    },
    {
     "name": "stdout",
     "output_type": "stream",
     "text": [
      "\n"
     ]
    },
    {
     "data": {
      "application/vnd.jupyter.widget-view+json": {
       "model_id": "5a04571a1b054499b1745a782abc533b",
       "version_major": 2,
       "version_minor": 0
      },
      "text/plain": [
       "HBox(children=(IntProgress(value=0, max=20), HTML(value='')))"
      ]
     },
     "metadata": {},
     "output_type": "display_data"
    },
    {
     "name": "stdout",
     "output_type": "stream",
     "text": [
      "\n"
     ]
    },
    {
     "data": {
      "application/vnd.jupyter.widget-view+json": {
       "model_id": "969327a6063846b9be17057f21270807",
       "version_major": 2,
       "version_minor": 0
      },
      "text/plain": [
       "HBox(children=(IntProgress(value=0, max=20), HTML(value='')))"
      ]
     },
     "metadata": {},
     "output_type": "display_data"
    },
    {
     "name": "stdout",
     "output_type": "stream",
     "text": [
      "\n",
      "Training until validation scores don't improve for 500 rounds.\n",
      "[100]\tvalid_0's auc: 0.683168\n",
      "[200]\tvalid_0's auc: 0.69557\n",
      "[300]\tvalid_0's auc: 0.698666\n",
      "[400]\tvalid_0's auc: 0.697744\n",
      "[500]\tvalid_0's auc: 0.698197\n",
      "[600]\tvalid_0's auc: 0.699558\n",
      "[700]\tvalid_0's auc: 0.700084\n",
      "[800]\tvalid_0's auc: 0.698019\n",
      "[900]\tvalid_0's auc: 0.701301\n",
      "[1000]\tvalid_0's auc: 0.700148\n",
      "[1100]\tvalid_0's auc: 0.700392\n",
      "[1200]\tvalid_0's auc: 0.700819\n",
      "[1300]\tvalid_0's auc: 0.70011\n",
      "[1400]\tvalid_0's auc: 0.700135\n",
      "Early stopping, best iteration is:\n",
      "[903]\tvalid_0's auc: 0.701552\n"
     ]
    },
    {
     "data": {
      "application/vnd.jupyter.widget-view+json": {
       "model_id": "e1406c5fd14e49e8a15fb8d256ce0fe2",
       "version_major": 2,
       "version_minor": 0
      },
      "text/plain": [
       "HBox(children=(IntProgress(value=0, max=20), HTML(value='')))"
      ]
     },
     "metadata": {},
     "output_type": "display_data"
    },
    {
     "name": "stdout",
     "output_type": "stream",
     "text": [
      "\n"
     ]
    },
    {
     "data": {
      "application/vnd.jupyter.widget-view+json": {
       "model_id": "9a9669e2fa17491fa9340fc29dacbcbf",
       "version_major": 2,
       "version_minor": 0
      },
      "text/plain": [
       "HBox(children=(IntProgress(value=0, max=20), HTML(value='')))"
      ]
     },
     "metadata": {},
     "output_type": "display_data"
    },
    {
     "name": "stdout",
     "output_type": "stream",
     "text": [
      "\n"
     ]
    },
    {
     "data": {
      "application/vnd.jupyter.widget-view+json": {
       "model_id": "7cda7df7c352451d97ca14ad1969e793",
       "version_major": 2,
       "version_minor": 0
      },
      "text/plain": [
       "HBox(children=(IntProgress(value=0, max=20), HTML(value='')))"
      ]
     },
     "metadata": {},
     "output_type": "display_data"
    },
    {
     "name": "stdout",
     "output_type": "stream",
     "text": [
      "\n"
     ]
    },
    {
     "data": {
      "application/vnd.jupyter.widget-view+json": {
       "model_id": "9ab5785b798541b4942704b7c8b15973",
       "version_major": 2,
       "version_minor": 0
      },
      "text/plain": [
       "HBox(children=(IntProgress(value=0, max=20), HTML(value='')))"
      ]
     },
     "metadata": {},
     "output_type": "display_data"
    },
    {
     "name": "stdout",
     "output_type": "stream",
     "text": [
      "\n"
     ]
    },
    {
     "data": {
      "application/vnd.jupyter.widget-view+json": {
       "model_id": "8744ad52902c410f899384ff65ca74b2",
       "version_major": 2,
       "version_minor": 0
      },
      "text/plain": [
       "HBox(children=(IntProgress(value=0, max=20), HTML(value='')))"
      ]
     },
     "metadata": {},
     "output_type": "display_data"
    },
    {
     "name": "stdout",
     "output_type": "stream",
     "text": [
      "\n"
     ]
    },
    {
     "data": {
      "application/vnd.jupyter.widget-view+json": {
       "model_id": "4ecf33e27a32403984d92f3bc79ee75b",
       "version_major": 2,
       "version_minor": 0
      },
      "text/plain": [
       "HBox(children=(IntProgress(value=0, max=20), HTML(value='')))"
      ]
     },
     "metadata": {},
     "output_type": "display_data"
    },
    {
     "name": "stdout",
     "output_type": "stream",
     "text": [
      "\n",
      "Training until validation scores don't improve for 500 rounds.\n",
      "[100]\tvalid_0's auc: 0.666283\n",
      "[200]\tvalid_0's auc: 0.66892\n",
      "[300]\tvalid_0's auc: 0.67435\n",
      "[400]\tvalid_0's auc: 0.670231\n",
      "[500]\tvalid_0's auc: 0.671668\n",
      "Early stopping, best iteration is:\n",
      "[30]\tvalid_0's auc: 0.675983\n"
     ]
    },
    {
     "data": {
      "application/vnd.jupyter.widget-view+json": {
       "model_id": "f1955cd1c2dc4f1880d6a0b1f5bbce57",
       "version_major": 2,
       "version_minor": 0
      },
      "text/plain": [
       "HBox(children=(IntProgress(value=0, max=20), HTML(value='')))"
      ]
     },
     "metadata": {},
     "output_type": "display_data"
    },
    {
     "name": "stdout",
     "output_type": "stream",
     "text": [
      "\n"
     ]
    },
    {
     "data": {
      "application/vnd.jupyter.widget-view+json": {
       "model_id": "1d1a08ee997048e28a81528a82f1b962",
       "version_major": 2,
       "version_minor": 0
      },
      "text/plain": [
       "HBox(children=(IntProgress(value=0, max=20), HTML(value='')))"
      ]
     },
     "metadata": {},
     "output_type": "display_data"
    },
    {
     "name": "stdout",
     "output_type": "stream",
     "text": [
      "\n"
     ]
    },
    {
     "data": {
      "application/vnd.jupyter.widget-view+json": {
       "model_id": "ff330e822f5449539647adbae9df8010",
       "version_major": 2,
       "version_minor": 0
      },
      "text/plain": [
       "HBox(children=(IntProgress(value=0, max=20), HTML(value='')))"
      ]
     },
     "metadata": {},
     "output_type": "display_data"
    },
    {
     "name": "stdout",
     "output_type": "stream",
     "text": [
      "\n"
     ]
    },
    {
     "data": {
      "application/vnd.jupyter.widget-view+json": {
       "model_id": "68d9fd399c3948139761cf48a119b8e6",
       "version_major": 2,
       "version_minor": 0
      },
      "text/plain": [
       "HBox(children=(IntProgress(value=0, max=20), HTML(value='')))"
      ]
     },
     "metadata": {},
     "output_type": "display_data"
    },
    {
     "name": "stdout",
     "output_type": "stream",
     "text": [
      "\n"
     ]
    },
    {
     "data": {
      "application/vnd.jupyter.widget-view+json": {
       "model_id": "586c2b73d65247a8b58ced1a84cfbe09",
       "version_major": 2,
       "version_minor": 0
      },
      "text/plain": [
       "HBox(children=(IntProgress(value=0, max=20), HTML(value='')))"
      ]
     },
     "metadata": {},
     "output_type": "display_data"
    },
    {
     "name": "stdout",
     "output_type": "stream",
     "text": [
      "\n"
     ]
    },
    {
     "data": {
      "application/vnd.jupyter.widget-view+json": {
       "model_id": "93381811ae534032942226e5826e0872",
       "version_major": 2,
       "version_minor": 0
      },
      "text/plain": [
       "HBox(children=(IntProgress(value=0, max=20), HTML(value='')))"
      ]
     },
     "metadata": {},
     "output_type": "display_data"
    },
    {
     "name": "stdout",
     "output_type": "stream",
     "text": [
      "\n",
      "Training until validation scores don't improve for 500 rounds.\n",
      "[100]\tvalid_0's auc: 0.678091\n",
      "[200]\tvalid_0's auc: 0.684402\n",
      "[300]\tvalid_0's auc: 0.689142\n",
      "[400]\tvalid_0's auc: 0.690927\n",
      "[500]\tvalid_0's auc: 0.692667\n",
      "[600]\tvalid_0's auc: 0.694607\n",
      "[700]\tvalid_0's auc: 0.693703\n",
      "[800]\tvalid_0's auc: 0.695357\n",
      "[900]\tvalid_0's auc: 0.695551\n",
      "[1000]\tvalid_0's auc: 0.692092\n",
      "[1100]\tvalid_0's auc: 0.691\n",
      "[1200]\tvalid_0's auc: 0.691765\n",
      "[1300]\tvalid_0's auc: 0.691463\n",
      "Early stopping, best iteration is:\n",
      "[890]\tvalid_0's auc: 0.696103\n"
     ]
    },
    {
     "data": {
      "application/vnd.jupyter.widget-view+json": {
       "model_id": "e8df2b3c4ba74107bf8ac356204b0dbb",
       "version_major": 2,
       "version_minor": 0
      },
      "text/plain": [
       "HBox(children=(IntProgress(value=0, max=20), HTML(value='')))"
      ]
     },
     "metadata": {},
     "output_type": "display_data"
    },
    {
     "name": "stdout",
     "output_type": "stream",
     "text": [
      "\n"
     ]
    },
    {
     "data": {
      "application/vnd.jupyter.widget-view+json": {
       "model_id": "2dc35d7aaddc412e875ccf23db44813b",
       "version_major": 2,
       "version_minor": 0
      },
      "text/plain": [
       "HBox(children=(IntProgress(value=0, max=20), HTML(value='')))"
      ]
     },
     "metadata": {},
     "output_type": "display_data"
    },
    {
     "name": "stdout",
     "output_type": "stream",
     "text": [
      "\n"
     ]
    },
    {
     "data": {
      "application/vnd.jupyter.widget-view+json": {
       "model_id": "371bcc2eef744769ace570aefac7bf01",
       "version_major": 2,
       "version_minor": 0
      },
      "text/plain": [
       "HBox(children=(IntProgress(value=0, max=20), HTML(value='')))"
      ]
     },
     "metadata": {},
     "output_type": "display_data"
    },
    {
     "name": "stdout",
     "output_type": "stream",
     "text": [
      "\n"
     ]
    },
    {
     "data": {
      "application/vnd.jupyter.widget-view+json": {
       "model_id": "d5df24c719464c7f930ed2032dda8e78",
       "version_major": 2,
       "version_minor": 0
      },
      "text/plain": [
       "HBox(children=(IntProgress(value=0, max=20), HTML(value='')))"
      ]
     },
     "metadata": {},
     "output_type": "display_data"
    },
    {
     "name": "stdout",
     "output_type": "stream",
     "text": [
      "\n"
     ]
    },
    {
     "data": {
      "application/vnd.jupyter.widget-view+json": {
       "model_id": "6e7da3c313204e3e88d85838d4b1eece",
       "version_major": 2,
       "version_minor": 0
      },
      "text/plain": [
       "HBox(children=(IntProgress(value=0, max=20), HTML(value='')))"
      ]
     },
     "metadata": {},
     "output_type": "display_data"
    },
    {
     "name": "stdout",
     "output_type": "stream",
     "text": [
      "\n"
     ]
    },
    {
     "data": {
      "application/vnd.jupyter.widget-view+json": {
       "model_id": "72be5ffc07df4046b48246b2b38c437a",
       "version_major": 2,
       "version_minor": 0
      },
      "text/plain": [
       "HBox(children=(IntProgress(value=0, max=20), HTML(value='')))"
      ]
     },
     "metadata": {},
     "output_type": "display_data"
    },
    {
     "name": "stdout",
     "output_type": "stream",
     "text": [
      "\n",
      "Training until validation scores don't improve for 500 rounds.\n",
      "[100]\tvalid_0's auc: 0.655955\n",
      "[200]\tvalid_0's auc: 0.665783\n",
      "[300]\tvalid_0's auc: 0.673457\n",
      "[400]\tvalid_0's auc: 0.674794\n",
      "[500]\tvalid_0's auc: 0.673761\n",
      "[600]\tvalid_0's auc: 0.674327\n",
      "[700]\tvalid_0's auc: 0.673513\n",
      "[800]\tvalid_0's auc: 0.671807\n",
      "Early stopping, best iteration is:\n",
      "[368]\tvalid_0's auc: 0.675784\n"
     ]
    }
   ],
   "source": [
    "param_lgb = {\n",
    "    'bagging_fraction': 0.8,\n",
    "    'bagging_freq': 1,\n",
    "    'boost': 'gbdt',\n",
    "    'feature_fraction': 0.8,\n",
    "    'learning_rate': 0.01,\n",
    "    'metric':'auc',\n",
    "    'num_leaves': 31,\n",
    "    'num_threads': 8,\n",
    "    'objective': 'binary',\n",
    "}\n",
    "\n",
    "\n",
    "kf = StratifiedKFold(n_splits=10, shuffle=True, random_state=0)\n",
    "\n",
    "\n",
    "pred_single = pd.DataFrame(index=data.loc[test_idx_single, 'orderid'])\n",
    "score = []\n",
    "\n",
    "for i , (train_index, test_index) in enumerate(kf.split(data.loc[train_idx_single, :], \n",
    "                                                        data.loc[train_idx_single, 'goal1'])):\n",
    "    data = feature_engineering(data, data.iloc[train_index])\n",
    "    X_train, y_train = data.loc[train_index, train_cols], data.loc[train_index, 'goal1']\n",
    "    X_test, y_test = data.loc[test_index, train_cols], data.loc[test_index, 'goal1']\n",
    "    tr = lgb.Dataset(np.array(X_train), np.array(y_train))\n",
    "    te = lgb.Dataset(np.array(X_test), np.array(y_test), reference=tr)\n",
    "    bst = lgb.train(param_lgb, tr, num_boost_round=10000, \n",
    "            valid_sets=te, early_stopping_rounds=int(5 / param_lgb['learning_rate']), verbose_eval=100)\n",
    "    score.append(bst.best_score['valid_0']['auc'])\n",
    "    \n",
    "    pred_single[str(i)] = bst.predict(np.array(data[train_cols])[test_idx_single, :])"
   ]
  },
  {
   "cell_type": "code",
   "execution_count": 13,
   "metadata": {},
   "outputs": [
    {
     "name": "stderr",
     "output_type": "stream",
     "text": [
      "/Users/arty/anaconda3/lib/python3.7/site-packages/ipykernel_launcher.py:2: FutureWarning: The signature of `Series.to_csv` was aligned to that of `DataFrame.to_csv`, and argument 'header' will change its default value from False to True: please pass an explicit value to suppress this warning.\n",
      "  \n"
     ]
    }
   ],
   "source": [
    "scores_df = pd.read_csv('val_scores.csv')\n",
    "scores_df = pd.concat([scores_df, pd.Series(score).to_csv('val_scores.csv')], axis=1)\n",
    "scores_df.to_csv('val_scores.csv')"
   ]
  },
  {
   "cell_type": "code",
   "execution_count": 14,
   "metadata": {},
   "outputs": [],
   "source": [
    "data_multi = data[data['num_orders_bin'] == 1]\n",
    "train_idx_multi = data_multi[~data_multi['goal1'].isna()].index\n",
    "test_idx_multi= data_multi[data_multi['goal1'].isna()].index"
   ]
  },
  {
   "cell_type": "code",
   "execution_count": 15,
   "metadata": {},
   "outputs": [
    {
     "data": {
      "application/vnd.jupyter.widget-view+json": {
       "model_id": "103e64f5f76447e69dabce371e09f4cf",
       "version_major": 2,
       "version_minor": 0
      },
      "text/plain": [
       "HBox(children=(IntProgress(value=0, max=20), HTML(value='')))"
      ]
     },
     "metadata": {},
     "output_type": "display_data"
    },
    {
     "name": "stdout",
     "output_type": "stream",
     "text": [
      "\n"
     ]
    },
    {
     "data": {
      "application/vnd.jupyter.widget-view+json": {
       "model_id": "e06f965dfa81481c9d7df484df27be34",
       "version_major": 2,
       "version_minor": 0
      },
      "text/plain": [
       "HBox(children=(IntProgress(value=0, max=20), HTML(value='')))"
      ]
     },
     "metadata": {},
     "output_type": "display_data"
    },
    {
     "name": "stdout",
     "output_type": "stream",
     "text": [
      "\n"
     ]
    },
    {
     "data": {
      "application/vnd.jupyter.widget-view+json": {
       "model_id": "4db70d1978134d0f98f656284804696d",
       "version_major": 2,
       "version_minor": 0
      },
      "text/plain": [
       "HBox(children=(IntProgress(value=0, max=20), HTML(value='')))"
      ]
     },
     "metadata": {},
     "output_type": "display_data"
    },
    {
     "name": "stdout",
     "output_type": "stream",
     "text": [
      "\n"
     ]
    },
    {
     "data": {
      "application/vnd.jupyter.widget-view+json": {
       "model_id": "6e56ae9f56f94663b5231381fa9407eb",
       "version_major": 2,
       "version_minor": 0
      },
      "text/plain": [
       "HBox(children=(IntProgress(value=0, max=20), HTML(value='')))"
      ]
     },
     "metadata": {},
     "output_type": "display_data"
    },
    {
     "name": "stdout",
     "output_type": "stream",
     "text": [
      "\n"
     ]
    },
    {
     "data": {
      "application/vnd.jupyter.widget-view+json": {
       "model_id": "02927042eccd488882e343296e619ae0",
       "version_major": 2,
       "version_minor": 0
      },
      "text/plain": [
       "HBox(children=(IntProgress(value=0, max=20), HTML(value='')))"
      ]
     },
     "metadata": {},
     "output_type": "display_data"
    },
    {
     "name": "stdout",
     "output_type": "stream",
     "text": [
      "\n"
     ]
    },
    {
     "data": {
      "application/vnd.jupyter.widget-view+json": {
       "model_id": "3372c25d568a49f685ec2ff4290ae419",
       "version_major": 2,
       "version_minor": 0
      },
      "text/plain": [
       "HBox(children=(IntProgress(value=0, max=20), HTML(value='')))"
      ]
     },
     "metadata": {},
     "output_type": "display_data"
    },
    {
     "name": "stdout",
     "output_type": "stream",
     "text": [
      "\n",
      "Training until validation scores don't improve for 500 rounds.\n",
      "[100]\tvalid_0's auc: 0.68932\n",
      "[200]\tvalid_0's auc: 0.695576\n",
      "[300]\tvalid_0's auc: 0.699149\n",
      "[400]\tvalid_0's auc: 0.700781\n",
      "[500]\tvalid_0's auc: 0.701956\n",
      "[600]\tvalid_0's auc: 0.703209\n",
      "[700]\tvalid_0's auc: 0.703347\n",
      "[800]\tvalid_0's auc: 0.702201\n",
      "[900]\tvalid_0's auc: 0.700932\n",
      "[1000]\tvalid_0's auc: 0.700457\n",
      "[1100]\tvalid_0's auc: 0.700129\n",
      "Early stopping, best iteration is:\n",
      "[645]\tvalid_0's auc: 0.704106\n"
     ]
    },
    {
     "data": {
      "application/vnd.jupyter.widget-view+json": {
       "model_id": "b2ba18d757f64f608f1d946f6b776493",
       "version_major": 2,
       "version_minor": 0
      },
      "text/plain": [
       "HBox(children=(IntProgress(value=0, max=20), HTML(value='')))"
      ]
     },
     "metadata": {},
     "output_type": "display_data"
    },
    {
     "name": "stdout",
     "output_type": "stream",
     "text": [
      "\n"
     ]
    },
    {
     "data": {
      "application/vnd.jupyter.widget-view+json": {
       "model_id": "f61069fa05b442c49039a5e1a970e7f3",
       "version_major": 2,
       "version_minor": 0
      },
      "text/plain": [
       "HBox(children=(IntProgress(value=0, max=20), HTML(value='')))"
      ]
     },
     "metadata": {},
     "output_type": "display_data"
    },
    {
     "name": "stdout",
     "output_type": "stream",
     "text": [
      "\n"
     ]
    },
    {
     "data": {
      "application/vnd.jupyter.widget-view+json": {
       "model_id": "9f65d21957bd458f9b72ff95c9d1696f",
       "version_major": 2,
       "version_minor": 0
      },
      "text/plain": [
       "HBox(children=(IntProgress(value=0, max=20), HTML(value='')))"
      ]
     },
     "metadata": {},
     "output_type": "display_data"
    },
    {
     "name": "stdout",
     "output_type": "stream",
     "text": [
      "\n"
     ]
    },
    {
     "data": {
      "application/vnd.jupyter.widget-view+json": {
       "model_id": "da692d5f19674c6e83dea981177d6e78",
       "version_major": 2,
       "version_minor": 0
      },
      "text/plain": [
       "HBox(children=(IntProgress(value=0, max=20), HTML(value='')))"
      ]
     },
     "metadata": {},
     "output_type": "display_data"
    },
    {
     "name": "stdout",
     "output_type": "stream",
     "text": [
      "\n"
     ]
    },
    {
     "data": {
      "application/vnd.jupyter.widget-view+json": {
       "model_id": "69c896d0f1734e8eba0502bf188c9fbc",
       "version_major": 2,
       "version_minor": 0
      },
      "text/plain": [
       "HBox(children=(IntProgress(value=0, max=20), HTML(value='')))"
      ]
     },
     "metadata": {},
     "output_type": "display_data"
    },
    {
     "name": "stdout",
     "output_type": "stream",
     "text": [
      "\n"
     ]
    },
    {
     "data": {
      "application/vnd.jupyter.widget-view+json": {
       "model_id": "918668adbeb446aea8f4301a7b5734fa",
       "version_major": 2,
       "version_minor": 0
      },
      "text/plain": [
       "HBox(children=(IntProgress(value=0, max=20), HTML(value='')))"
      ]
     },
     "metadata": {},
     "output_type": "display_data"
    },
    {
     "name": "stdout",
     "output_type": "stream",
     "text": [
      "\n",
      "Training until validation scores don't improve for 500 rounds.\n",
      "[100]\tvalid_0's auc: 0.696868\n",
      "[200]\tvalid_0's auc: 0.699579\n",
      "[300]\tvalid_0's auc: 0.701343\n",
      "[400]\tvalid_0's auc: 0.700232\n",
      "[500]\tvalid_0's auc: 0.699645\n",
      "[600]\tvalid_0's auc: 0.699657\n",
      "[700]\tvalid_0's auc: 0.698936\n",
      "Early stopping, best iteration is:\n",
      "[280]\tvalid_0's auc: 0.702225\n"
     ]
    },
    {
     "data": {
      "application/vnd.jupyter.widget-view+json": {
       "model_id": "1f8930b8eadf40bc88a22f920f21bee2",
       "version_major": 2,
       "version_minor": 0
      },
      "text/plain": [
       "HBox(children=(IntProgress(value=0, max=20), HTML(value='')))"
      ]
     },
     "metadata": {},
     "output_type": "display_data"
    },
    {
     "name": "stdout",
     "output_type": "stream",
     "text": [
      "\n"
     ]
    },
    {
     "data": {
      "application/vnd.jupyter.widget-view+json": {
       "model_id": "565ae26f3c6340da8e88c36273e95d1b",
       "version_major": 2,
       "version_minor": 0
      },
      "text/plain": [
       "HBox(children=(IntProgress(value=0, max=20), HTML(value='')))"
      ]
     },
     "metadata": {},
     "output_type": "display_data"
    },
    {
     "name": "stdout",
     "output_type": "stream",
     "text": [
      "\n"
     ]
    },
    {
     "data": {
      "application/vnd.jupyter.widget-view+json": {
       "model_id": "6bc9bf336582479c9bdd56ab9d80e529",
       "version_major": 2,
       "version_minor": 0
      },
      "text/plain": [
       "HBox(children=(IntProgress(value=0, max=20), HTML(value='')))"
      ]
     },
     "metadata": {},
     "output_type": "display_data"
    },
    {
     "name": "stdout",
     "output_type": "stream",
     "text": [
      "\n"
     ]
    },
    {
     "data": {
      "application/vnd.jupyter.widget-view+json": {
       "model_id": "25a3ab6e2fe149f5939df4e8de2e8c2a",
       "version_major": 2,
       "version_minor": 0
      },
      "text/plain": [
       "HBox(children=(IntProgress(value=0, max=20), HTML(value='')))"
      ]
     },
     "metadata": {},
     "output_type": "display_data"
    },
    {
     "name": "stdout",
     "output_type": "stream",
     "text": [
      "\n"
     ]
    },
    {
     "data": {
      "application/vnd.jupyter.widget-view+json": {
       "model_id": "bae6172b7f4246f189fac8f2ba7f19ee",
       "version_major": 2,
       "version_minor": 0
      },
      "text/plain": [
       "HBox(children=(IntProgress(value=0, max=20), HTML(value='')))"
      ]
     },
     "metadata": {},
     "output_type": "display_data"
    },
    {
     "name": "stdout",
     "output_type": "stream",
     "text": [
      "\n"
     ]
    },
    {
     "data": {
      "application/vnd.jupyter.widget-view+json": {
       "model_id": "3de3ceda6bb64f6e9ec69c8c90cf8a30",
       "version_major": 2,
       "version_minor": 0
      },
      "text/plain": [
       "HBox(children=(IntProgress(value=0, max=20), HTML(value='')))"
      ]
     },
     "metadata": {},
     "output_type": "display_data"
    },
    {
     "name": "stdout",
     "output_type": "stream",
     "text": [
      "\n",
      "Training until validation scores don't improve for 500 rounds.\n",
      "[100]\tvalid_0's auc: 0.686971\n",
      "[200]\tvalid_0's auc: 0.695237\n",
      "[300]\tvalid_0's auc: 0.699163\n",
      "[400]\tvalid_0's auc: 0.700634\n",
      "[500]\tvalid_0's auc: 0.703422\n",
      "[600]\tvalid_0's auc: 0.704755\n",
      "[700]\tvalid_0's auc: 0.704123\n",
      "[800]\tvalid_0's auc: 0.703743\n",
      "[900]\tvalid_0's auc: 0.703453\n",
      "[1000]\tvalid_0's auc: 0.703281\n",
      "[1100]\tvalid_0's auc: 0.704277\n",
      "Early stopping, best iteration is:\n",
      "[605]\tvalid_0's auc: 0.704883\n"
     ]
    },
    {
     "data": {
      "application/vnd.jupyter.widget-view+json": {
       "model_id": "d42900e62dbb4847ac224cbe8de80c96",
       "version_major": 2,
       "version_minor": 0
      },
      "text/plain": [
       "HBox(children=(IntProgress(value=0, max=20), HTML(value='')))"
      ]
     },
     "metadata": {},
     "output_type": "display_data"
    },
    {
     "name": "stdout",
     "output_type": "stream",
     "text": [
      "\n"
     ]
    },
    {
     "data": {
      "application/vnd.jupyter.widget-view+json": {
       "model_id": "8ed962d3c409473780b810f37c366529",
       "version_major": 2,
       "version_minor": 0
      },
      "text/plain": [
       "HBox(children=(IntProgress(value=0, max=20), HTML(value='')))"
      ]
     },
     "metadata": {},
     "output_type": "display_data"
    },
    {
     "name": "stdout",
     "output_type": "stream",
     "text": [
      "\n"
     ]
    },
    {
     "data": {
      "application/vnd.jupyter.widget-view+json": {
       "model_id": "44479141c26b4ec1ae836c86a852d6bb",
       "version_major": 2,
       "version_minor": 0
      },
      "text/plain": [
       "HBox(children=(IntProgress(value=0, max=20), HTML(value='')))"
      ]
     },
     "metadata": {},
     "output_type": "display_data"
    },
    {
     "name": "stdout",
     "output_type": "stream",
     "text": [
      "\n"
     ]
    },
    {
     "data": {
      "application/vnd.jupyter.widget-view+json": {
       "model_id": "1f38954f34614309af98c8b875a31b7a",
       "version_major": 2,
       "version_minor": 0
      },
      "text/plain": [
       "HBox(children=(IntProgress(value=0, max=20), HTML(value='')))"
      ]
     },
     "metadata": {},
     "output_type": "display_data"
    },
    {
     "name": "stdout",
     "output_type": "stream",
     "text": [
      "\n"
     ]
    },
    {
     "data": {
      "application/vnd.jupyter.widget-view+json": {
       "model_id": "a5f784a72f6f49948d05aa4231db8239",
       "version_major": 2,
       "version_minor": 0
      },
      "text/plain": [
       "HBox(children=(IntProgress(value=0, max=20), HTML(value='')))"
      ]
     },
     "metadata": {},
     "output_type": "display_data"
    },
    {
     "name": "stdout",
     "output_type": "stream",
     "text": [
      "\n"
     ]
    },
    {
     "data": {
      "application/vnd.jupyter.widget-view+json": {
       "model_id": "f0b4f7c0818c43b1aa4b806da2eac4da",
       "version_major": 2,
       "version_minor": 0
      },
      "text/plain": [
       "HBox(children=(IntProgress(value=0, max=20), HTML(value='')))"
      ]
     },
     "metadata": {},
     "output_type": "display_data"
    },
    {
     "name": "stdout",
     "output_type": "stream",
     "text": [
      "\n",
      "Training until validation scores don't improve for 500 rounds.\n",
      "[100]\tvalid_0's auc: 0.686291\n",
      "[200]\tvalid_0's auc: 0.69318\n",
      "[300]\tvalid_0's auc: 0.695076\n",
      "[400]\tvalid_0's auc: 0.698654\n",
      "[500]\tvalid_0's auc: 0.702978\n",
      "[600]\tvalid_0's auc: 0.704336\n",
      "[700]\tvalid_0's auc: 0.706333\n",
      "[800]\tvalid_0's auc: 0.706859\n",
      "[900]\tvalid_0's auc: 0.704774\n",
      "[1000]\tvalid_0's auc: 0.704105\n",
      "[1100]\tvalid_0's auc: 0.703626\n",
      "[1200]\tvalid_0's auc: 0.702403\n",
      "[1300]\tvalid_0's auc: 0.701782\n",
      "Early stopping, best iteration is:\n",
      "[806]\tvalid_0's auc: 0.706865\n"
     ]
    },
    {
     "data": {
      "application/vnd.jupyter.widget-view+json": {
       "model_id": "4ad0e9dab61647c88f0fe6ead2741a0a",
       "version_major": 2,
       "version_minor": 0
      },
      "text/plain": [
       "HBox(children=(IntProgress(value=0, max=20), HTML(value='')))"
      ]
     },
     "metadata": {},
     "output_type": "display_data"
    },
    {
     "name": "stdout",
     "output_type": "stream",
     "text": [
      "\n"
     ]
    },
    {
     "data": {
      "application/vnd.jupyter.widget-view+json": {
       "model_id": "b07c4ef736e94d148af45b4b5dbcf885",
       "version_major": 2,
       "version_minor": 0
      },
      "text/plain": [
       "HBox(children=(IntProgress(value=0, max=20), HTML(value='')))"
      ]
     },
     "metadata": {},
     "output_type": "display_data"
    },
    {
     "name": "stdout",
     "output_type": "stream",
     "text": [
      "\n"
     ]
    },
    {
     "data": {
      "application/vnd.jupyter.widget-view+json": {
       "model_id": "d920c061f4724d4fb9e9db86c911154a",
       "version_major": 2,
       "version_minor": 0
      },
      "text/plain": [
       "HBox(children=(IntProgress(value=0, max=20), HTML(value='')))"
      ]
     },
     "metadata": {},
     "output_type": "display_data"
    },
    {
     "name": "stdout",
     "output_type": "stream",
     "text": [
      "\n"
     ]
    },
    {
     "data": {
      "application/vnd.jupyter.widget-view+json": {
       "model_id": "d5c563e4f5d44a3584a1913c12351440",
       "version_major": 2,
       "version_minor": 0
      },
      "text/plain": [
       "HBox(children=(IntProgress(value=0, max=20), HTML(value='')))"
      ]
     },
     "metadata": {},
     "output_type": "display_data"
    },
    {
     "name": "stdout",
     "output_type": "stream",
     "text": [
      "\n"
     ]
    },
    {
     "data": {
      "application/vnd.jupyter.widget-view+json": {
       "model_id": "3b20fa49d95f4207a17e3b0d13ea3fac",
       "version_major": 2,
       "version_minor": 0
      },
      "text/plain": [
       "HBox(children=(IntProgress(value=0, max=20), HTML(value='')))"
      ]
     },
     "metadata": {},
     "output_type": "display_data"
    },
    {
     "name": "stdout",
     "output_type": "stream",
     "text": [
      "\n"
     ]
    },
    {
     "data": {
      "application/vnd.jupyter.widget-view+json": {
       "model_id": "410fe0eda3a648f791e2a05cf4fe4f94",
       "version_major": 2,
       "version_minor": 0
      },
      "text/plain": [
       "HBox(children=(IntProgress(value=0, max=20), HTML(value='')))"
      ]
     },
     "metadata": {},
     "output_type": "display_data"
    },
    {
     "name": "stdout",
     "output_type": "stream",
     "text": [
      "\n",
      "Training until validation scores don't improve for 500 rounds.\n",
      "[100]\tvalid_0's auc: 0.7164\n",
      "[200]\tvalid_0's auc: 0.719033\n",
      "[300]\tvalid_0's auc: 0.722747\n",
      "[400]\tvalid_0's auc: 0.721664\n",
      "[500]\tvalid_0's auc: 0.719485\n",
      "[600]\tvalid_0's auc: 0.718084\n",
      "[700]\tvalid_0's auc: 0.716986\n",
      "[800]\tvalid_0's auc: 0.714463\n",
      "Early stopping, best iteration is:\n",
      "[330]\tvalid_0's auc: 0.723734\n"
     ]
    },
    {
     "data": {
      "application/vnd.jupyter.widget-view+json": {
       "model_id": "8a2fdefea0084043872798b2a30273b7",
       "version_major": 2,
       "version_minor": 0
      },
      "text/plain": [
       "HBox(children=(IntProgress(value=0, max=20), HTML(value='')))"
      ]
     },
     "metadata": {},
     "output_type": "display_data"
    },
    {
     "name": "stdout",
     "output_type": "stream",
     "text": [
      "\n"
     ]
    },
    {
     "data": {
      "application/vnd.jupyter.widget-view+json": {
       "model_id": "732585d8942243d5b72f2df23370bcb2",
       "version_major": 2,
       "version_minor": 0
      },
      "text/plain": [
       "HBox(children=(IntProgress(value=0, max=20), HTML(value='')))"
      ]
     },
     "metadata": {},
     "output_type": "display_data"
    },
    {
     "name": "stdout",
     "output_type": "stream",
     "text": [
      "\n"
     ]
    },
    {
     "data": {
      "application/vnd.jupyter.widget-view+json": {
       "model_id": "b515f267755044ff8736d9c2e78ec51b",
       "version_major": 2,
       "version_minor": 0
      },
      "text/plain": [
       "HBox(children=(IntProgress(value=0, max=20), HTML(value='')))"
      ]
     },
     "metadata": {},
     "output_type": "display_data"
    },
    {
     "name": "stdout",
     "output_type": "stream",
     "text": [
      "\n"
     ]
    },
    {
     "data": {
      "application/vnd.jupyter.widget-view+json": {
       "model_id": "eaf38440e8db49e6a169af18b6db05ac",
       "version_major": 2,
       "version_minor": 0
      },
      "text/plain": [
       "HBox(children=(IntProgress(value=0, max=20), HTML(value='')))"
      ]
     },
     "metadata": {},
     "output_type": "display_data"
    },
    {
     "name": "stdout",
     "output_type": "stream",
     "text": [
      "\n"
     ]
    },
    {
     "data": {
      "application/vnd.jupyter.widget-view+json": {
       "model_id": "4b50547d37034fa29bdaf5dde728fd3b",
       "version_major": 2,
       "version_minor": 0
      },
      "text/plain": [
       "HBox(children=(IntProgress(value=0, max=20), HTML(value='')))"
      ]
     },
     "metadata": {},
     "output_type": "display_data"
    },
    {
     "name": "stdout",
     "output_type": "stream",
     "text": [
      "\n"
     ]
    },
    {
     "data": {
      "application/vnd.jupyter.widget-view+json": {
       "model_id": "5dacbe8b138c4d33ad62cd252ee90156",
       "version_major": 2,
       "version_minor": 0
      },
      "text/plain": [
       "HBox(children=(IntProgress(value=0, max=20), HTML(value='')))"
      ]
     },
     "metadata": {},
     "output_type": "display_data"
    },
    {
     "name": "stdout",
     "output_type": "stream",
     "text": [
      "\n",
      "Training until validation scores don't improve for 500 rounds.\n",
      "[100]\tvalid_0's auc: 0.691911\n",
      "[200]\tvalid_0's auc: 0.700237\n",
      "[300]\tvalid_0's auc: 0.702479\n",
      "[400]\tvalid_0's auc: 0.703752\n",
      "[500]\tvalid_0's auc: 0.702325\n",
      "[600]\tvalid_0's auc: 0.70174\n",
      "[700]\tvalid_0's auc: 0.701987\n",
      "[800]\tvalid_0's auc: 0.70134\n",
      "[900]\tvalid_0's auc: 0.700603\n",
      "Early stopping, best iteration is:\n",
      "[428]\tvalid_0's auc: 0.704009\n"
     ]
    },
    {
     "data": {
      "application/vnd.jupyter.widget-view+json": {
       "model_id": "d668b598a64045d58d6634a6b36b09ae",
       "version_major": 2,
       "version_minor": 0
      },
      "text/plain": [
       "HBox(children=(IntProgress(value=0, max=20), HTML(value='')))"
      ]
     },
     "metadata": {},
     "output_type": "display_data"
    },
    {
     "name": "stdout",
     "output_type": "stream",
     "text": [
      "\n"
     ]
    },
    {
     "data": {
      "application/vnd.jupyter.widget-view+json": {
       "model_id": "b04dbc706a3c4a40bfd9654c1cc075ae",
       "version_major": 2,
       "version_minor": 0
      },
      "text/plain": [
       "HBox(children=(IntProgress(value=0, max=20), HTML(value='')))"
      ]
     },
     "metadata": {},
     "output_type": "display_data"
    },
    {
     "name": "stdout",
     "output_type": "stream",
     "text": [
      "\n"
     ]
    },
    {
     "data": {
      "application/vnd.jupyter.widget-view+json": {
       "model_id": "e1bd7f2fd58a47c49401ff6febc507a0",
       "version_major": 2,
       "version_minor": 0
      },
      "text/plain": [
       "HBox(children=(IntProgress(value=0, max=20), HTML(value='')))"
      ]
     },
     "metadata": {},
     "output_type": "display_data"
    },
    {
     "name": "stdout",
     "output_type": "stream",
     "text": [
      "\n"
     ]
    },
    {
     "data": {
      "application/vnd.jupyter.widget-view+json": {
       "model_id": "991afa097bb74f839aaffe4cffe97a0d",
       "version_major": 2,
       "version_minor": 0
      },
      "text/plain": [
       "HBox(children=(IntProgress(value=0, max=20), HTML(value='')))"
      ]
     },
     "metadata": {},
     "output_type": "display_data"
    },
    {
     "name": "stdout",
     "output_type": "stream",
     "text": [
      "\n"
     ]
    },
    {
     "data": {
      "application/vnd.jupyter.widget-view+json": {
       "model_id": "e744d062da884f54a86565d65b340859",
       "version_major": 2,
       "version_minor": 0
      },
      "text/plain": [
       "HBox(children=(IntProgress(value=0, max=20), HTML(value='')))"
      ]
     },
     "metadata": {},
     "output_type": "display_data"
    },
    {
     "name": "stdout",
     "output_type": "stream",
     "text": [
      "\n"
     ]
    },
    {
     "data": {
      "application/vnd.jupyter.widget-view+json": {
       "model_id": "0a498dd91e884c589a850b82a703acba",
       "version_major": 2,
       "version_minor": 0
      },
      "text/plain": [
       "HBox(children=(IntProgress(value=0, max=20), HTML(value='')))"
      ]
     },
     "metadata": {},
     "output_type": "display_data"
    },
    {
     "name": "stdout",
     "output_type": "stream",
     "text": [
      "\n",
      "Training until validation scores don't improve for 500 rounds.\n",
      "[100]\tvalid_0's auc: 0.698898\n",
      "[200]\tvalid_0's auc: 0.701359\n",
      "[300]\tvalid_0's auc: 0.702956\n",
      "[400]\tvalid_0's auc: 0.700836\n",
      "[500]\tvalid_0's auc: 0.701298\n",
      "[600]\tvalid_0's auc: 0.702681\n",
      "[700]\tvalid_0's auc: 0.7025\n",
      "[800]\tvalid_0's auc: 0.70133\n",
      "Early stopping, best iteration is:\n",
      "[302]\tvalid_0's auc: 0.703227\n"
     ]
    },
    {
     "data": {
      "application/vnd.jupyter.widget-view+json": {
       "model_id": "33a2ed8f054243bca6a3b54fb29fd348",
       "version_major": 2,
       "version_minor": 0
      },
      "text/plain": [
       "HBox(children=(IntProgress(value=0, max=20), HTML(value='')))"
      ]
     },
     "metadata": {},
     "output_type": "display_data"
    },
    {
     "name": "stdout",
     "output_type": "stream",
     "text": [
      "\n"
     ]
    },
    {
     "data": {
      "application/vnd.jupyter.widget-view+json": {
       "model_id": "4cd24344acd54d6fa6c57678d0464cdd",
       "version_major": 2,
       "version_minor": 0
      },
      "text/plain": [
       "HBox(children=(IntProgress(value=0, max=20), HTML(value='')))"
      ]
     },
     "metadata": {},
     "output_type": "display_data"
    },
    {
     "name": "stdout",
     "output_type": "stream",
     "text": [
      "\n"
     ]
    },
    {
     "data": {
      "application/vnd.jupyter.widget-view+json": {
       "model_id": "68634c1c3e1c4da2ae76603afc589031",
       "version_major": 2,
       "version_minor": 0
      },
      "text/plain": [
       "HBox(children=(IntProgress(value=0, max=20), HTML(value='')))"
      ]
     },
     "metadata": {},
     "output_type": "display_data"
    },
    {
     "name": "stdout",
     "output_type": "stream",
     "text": [
      "\n"
     ]
    },
    {
     "data": {
      "application/vnd.jupyter.widget-view+json": {
       "model_id": "47e192db44c1453ea1c122ac9086ba8d",
       "version_major": 2,
       "version_minor": 0
      },
      "text/plain": [
       "HBox(children=(IntProgress(value=0, max=20), HTML(value='')))"
      ]
     },
     "metadata": {},
     "output_type": "display_data"
    },
    {
     "name": "stdout",
     "output_type": "stream",
     "text": [
      "\n"
     ]
    },
    {
     "data": {
      "application/vnd.jupyter.widget-view+json": {
       "model_id": "fb337f10f8f9407f93f3ebbea86de697",
       "version_major": 2,
       "version_minor": 0
      },
      "text/plain": [
       "HBox(children=(IntProgress(value=0, max=20), HTML(value='')))"
      ]
     },
     "metadata": {},
     "output_type": "display_data"
    },
    {
     "name": "stdout",
     "output_type": "stream",
     "text": [
      "\n"
     ]
    },
    {
     "data": {
      "application/vnd.jupyter.widget-view+json": {
       "model_id": "136798a87c174a10894f882b8c43da80",
       "version_major": 2,
       "version_minor": 0
      },
      "text/plain": [
       "HBox(children=(IntProgress(value=0, max=20), HTML(value='')))"
      ]
     },
     "metadata": {},
     "output_type": "display_data"
    },
    {
     "name": "stdout",
     "output_type": "stream",
     "text": [
      "\n",
      "Training until validation scores don't improve for 500 rounds.\n",
      "[100]\tvalid_0's auc: 0.667785\n",
      "[200]\tvalid_0's auc: 0.675055\n",
      "[300]\tvalid_0's auc: 0.68124\n",
      "[400]\tvalid_0's auc: 0.685399\n",
      "[500]\tvalid_0's auc: 0.687623\n",
      "[600]\tvalid_0's auc: 0.690038\n",
      "[700]\tvalid_0's auc: 0.690469\n",
      "[800]\tvalid_0's auc: 0.691066\n",
      "[900]\tvalid_0's auc: 0.692318\n",
      "[1000]\tvalid_0's auc: 0.693453\n",
      "[1100]\tvalid_0's auc: 0.693889\n",
      "[1200]\tvalid_0's auc: 0.695059\n",
      "[1300]\tvalid_0's auc: 0.695327\n",
      "[1400]\tvalid_0's auc: 0.696011\n",
      "[1500]\tvalid_0's auc: 0.695199\n",
      "[1600]\tvalid_0's auc: 0.695652\n",
      "[1700]\tvalid_0's auc: 0.696384\n",
      "[1800]\tvalid_0's auc: 0.69705\n",
      "[1900]\tvalid_0's auc: 0.696073\n",
      "[2000]\tvalid_0's auc: 0.696187\n",
      "[2100]\tvalid_0's auc: 0.696228\n",
      "[2200]\tvalid_0's auc: 0.696984\n",
      "Early stopping, best iteration is:\n",
      "[1768]\tvalid_0's auc: 0.69728\n"
     ]
    },
    {
     "data": {
      "application/vnd.jupyter.widget-view+json": {
       "model_id": "216aa2b10dc34f47846db72d2768afb0",
       "version_major": 2,
       "version_minor": 0
      },
      "text/plain": [
       "HBox(children=(IntProgress(value=0, max=20), HTML(value='')))"
      ]
     },
     "metadata": {},
     "output_type": "display_data"
    },
    {
     "name": "stdout",
     "output_type": "stream",
     "text": [
      "\n"
     ]
    },
    {
     "data": {
      "application/vnd.jupyter.widget-view+json": {
       "model_id": "08aa179cb90143d2840c304b4d765d1b",
       "version_major": 2,
       "version_minor": 0
      },
      "text/plain": [
       "HBox(children=(IntProgress(value=0, max=20), HTML(value='')))"
      ]
     },
     "metadata": {},
     "output_type": "display_data"
    },
    {
     "name": "stdout",
     "output_type": "stream",
     "text": [
      "\n"
     ]
    },
    {
     "data": {
      "application/vnd.jupyter.widget-view+json": {
       "model_id": "4ccf9ddca43c4acc8b7e9b538b5c395d",
       "version_major": 2,
       "version_minor": 0
      },
      "text/plain": [
       "HBox(children=(IntProgress(value=0, max=20), HTML(value='')))"
      ]
     },
     "metadata": {},
     "output_type": "display_data"
    },
    {
     "name": "stdout",
     "output_type": "stream",
     "text": [
      "\n"
     ]
    },
    {
     "data": {
      "application/vnd.jupyter.widget-view+json": {
       "model_id": "2228d077a83045379ce6715322cf6b11",
       "version_major": 2,
       "version_minor": 0
      },
      "text/plain": [
       "HBox(children=(IntProgress(value=0, max=20), HTML(value='')))"
      ]
     },
     "metadata": {},
     "output_type": "display_data"
    },
    {
     "name": "stdout",
     "output_type": "stream",
     "text": [
      "\n"
     ]
    },
    {
     "data": {
      "application/vnd.jupyter.widget-view+json": {
       "model_id": "65baef56fffc4953a8dbde61214f5c20",
       "version_major": 2,
       "version_minor": 0
      },
      "text/plain": [
       "HBox(children=(IntProgress(value=0, max=20), HTML(value='')))"
      ]
     },
     "metadata": {},
     "output_type": "display_data"
    },
    {
     "name": "stdout",
     "output_type": "stream",
     "text": [
      "\n"
     ]
    },
    {
     "data": {
      "application/vnd.jupyter.widget-view+json": {
       "model_id": "2ec4a3b5958545b9803c41f92ca4e264",
       "version_major": 2,
       "version_minor": 0
      },
      "text/plain": [
       "HBox(children=(IntProgress(value=0, max=20), HTML(value='')))"
      ]
     },
     "metadata": {},
     "output_type": "display_data"
    },
    {
     "name": "stdout",
     "output_type": "stream",
     "text": [
      "\n",
      "Training until validation scores don't improve for 500 rounds.\n",
      "[100]\tvalid_0's auc: 0.706828\n",
      "[200]\tvalid_0's auc: 0.71474\n",
      "[300]\tvalid_0's auc: 0.720892\n",
      "[400]\tvalid_0's auc: 0.723161\n",
      "[500]\tvalid_0's auc: 0.725989\n",
      "[600]\tvalid_0's auc: 0.726512\n",
      "[700]\tvalid_0's auc: 0.727257\n",
      "[800]\tvalid_0's auc: 0.726228\n",
      "[900]\tvalid_0's auc: 0.727484\n",
      "[1000]\tvalid_0's auc: 0.728004\n",
      "[1100]\tvalid_0's auc: 0.726853\n",
      "[1200]\tvalid_0's auc: 0.725534\n",
      "[1300]\tvalid_0's auc: 0.723663\n",
      "Early stopping, best iteration is:\n",
      "[841]\tvalid_0's auc: 0.728549\n"
     ]
    },
    {
     "data": {
      "application/vnd.jupyter.widget-view+json": {
       "model_id": "368b29caf733447da74567539a9ccdd4",
       "version_major": 2,
       "version_minor": 0
      },
      "text/plain": [
       "HBox(children=(IntProgress(value=0, max=20), HTML(value='')))"
      ]
     },
     "metadata": {},
     "output_type": "display_data"
    },
    {
     "name": "stdout",
     "output_type": "stream",
     "text": [
      "\n"
     ]
    },
    {
     "data": {
      "application/vnd.jupyter.widget-view+json": {
       "model_id": "d7b02f01e6d24dc2b849e854b5daeeed",
       "version_major": 2,
       "version_minor": 0
      },
      "text/plain": [
       "HBox(children=(IntProgress(value=0, max=20), HTML(value='')))"
      ]
     },
     "metadata": {},
     "output_type": "display_data"
    },
    {
     "name": "stdout",
     "output_type": "stream",
     "text": [
      "\n"
     ]
    },
    {
     "data": {
      "application/vnd.jupyter.widget-view+json": {
       "model_id": "1896859971a94ddfab566bbc24726ced",
       "version_major": 2,
       "version_minor": 0
      },
      "text/plain": [
       "HBox(children=(IntProgress(value=0, max=20), HTML(value='')))"
      ]
     },
     "metadata": {},
     "output_type": "display_data"
    },
    {
     "name": "stdout",
     "output_type": "stream",
     "text": [
      "\n"
     ]
    },
    {
     "data": {
      "application/vnd.jupyter.widget-view+json": {
       "model_id": "02f35ad67be44d02a9ee1cfcb00cee7b",
       "version_major": 2,
       "version_minor": 0
      },
      "text/plain": [
       "HBox(children=(IntProgress(value=0, max=20), HTML(value='')))"
      ]
     },
     "metadata": {},
     "output_type": "display_data"
    },
    {
     "name": "stdout",
     "output_type": "stream",
     "text": [
      "\n"
     ]
    },
    {
     "data": {
      "application/vnd.jupyter.widget-view+json": {
       "model_id": "80398d5dfcdf4165bbddeca2a2a01b5b",
       "version_major": 2,
       "version_minor": 0
      },
      "text/plain": [
       "HBox(children=(IntProgress(value=0, max=20), HTML(value='')))"
      ]
     },
     "metadata": {},
     "output_type": "display_data"
    },
    {
     "name": "stdout",
     "output_type": "stream",
     "text": [
      "\n"
     ]
    },
    {
     "data": {
      "application/vnd.jupyter.widget-view+json": {
       "model_id": "972eb5238c7d48a5be8533f003cdd236",
       "version_major": 2,
       "version_minor": 0
      },
      "text/plain": [
       "HBox(children=(IntProgress(value=0, max=20), HTML(value='')))"
      ]
     },
     "metadata": {},
     "output_type": "display_data"
    },
    {
     "name": "stdout",
     "output_type": "stream",
     "text": [
      "\n",
      "Training until validation scores don't improve for 500 rounds.\n",
      "[100]\tvalid_0's auc: 0.710308\n",
      "[200]\tvalid_0's auc: 0.713827\n",
      "[300]\tvalid_0's auc: 0.718182\n",
      "[400]\tvalid_0's auc: 0.719505\n",
      "[500]\tvalid_0's auc: 0.720645\n",
      "[600]\tvalid_0's auc: 0.719485\n",
      "[700]\tvalid_0's auc: 0.719263\n",
      "[800]\tvalid_0's auc: 0.717778\n",
      "[900]\tvalid_0's auc: 0.714613\n",
      "[1000]\tvalid_0's auc: 0.7131\n",
      "Early stopping, best iteration is:\n",
      "[522]\tvalid_0's auc: 0.72085\n"
     ]
    }
   ],
   "source": [
    "param_lgb = {\n",
    "    'bagging_fraction': 0.8,\n",
    "    'bagging_freq': 1,\n",
    "    'boost': 'gbdt',\n",
    "    'feature_fraction': 0.8,\n",
    "    'learning_rate': 0.01,\n",
    "    'metric':'auc',\n",
    "    'num_leaves': 31,\n",
    "    'num_threads': 8,\n",
    "    'objective': 'binary',\n",
    "}\n",
    "\n",
    "\n",
    "kf = StratifiedKFold(n_splits=10, shuffle=True, random_state=0)\n",
    "\n",
    "\n",
    "pred_multi = pd.DataFrame(index=data.loc[test_idx_multi, 'orderid'])\n",
    "score = []\n",
    "\n",
    "for i , (train_index, test_index) in enumerate(kf.split(data.loc[train_idx_multi, :], \n",
    "                                                        data.loc[train_idx_multi, 'goal1'])):\n",
    "    data = feature_engineering(data, data.iloc[train_index])\n",
    "    X_train, y_train = data.loc[train_index, train_cols], data.loc[train_index, 'goal1']\n",
    "    X_test, y_test = data.loc[test_index, train_cols], data.loc[test_index, 'goal1']\n",
    "    tr = lgb.Dataset(np.array(X_train), np.array(y_train))\n",
    "    te = lgb.Dataset(np.array(X_test), np.array(y_test), reference=tr)\n",
    "    bst = lgb.train(param_lgb, tr, num_boost_round=10000, \n",
    "            valid_sets=te, early_stopping_rounds=int(5 / param_lgb['learning_rate']), verbose_eval=100)\n",
    "    score.append(bst.best_score['valid_0']['auc'])\n",
    "    \n",
    "    pred_multi[str(i)] = bst.predict(np.array(data[train_cols])[test_idx_multi, :])"
   ]
  },
  {
   "cell_type": "code",
   "execution_count": 16,
   "metadata": {},
   "outputs": [
    {
     "name": "stderr",
     "output_type": "stream",
     "text": [
      "/Users/arty/anaconda3/lib/python3.7/site-packages/ipykernel_launcher.py:2: FutureWarning: The signature of `Series.to_csv` was aligned to that of `DataFrame.to_csv`, and argument 'header' will change its default value from False to True: please pass an explicit value to suppress this warning.\n",
      "  \n"
     ]
    }
   ],
   "source": [
    "scores_df = pd.read_csv('val_scores.csv')\n",
    "scores_df = pd.concat([scores_df, pd.Series(score).to_csv('val_scores.csv')], axis=1)\n",
    "scores_df.to_csv('val_scores.csv')"
   ]
  },
  {
   "cell_type": "code",
   "execution_count": 17,
   "metadata": {},
   "outputs": [],
   "source": [
    "pred = pd.concat([pred_single, pred_multi], axis=0)"
   ]
  },
  {
   "cell_type": "code",
   "execution_count": 28,
   "metadata": {},
   "outputs": [],
   "source": [
    "pred = pred.sort_index()\n",
    "pred.index = pred.index - ltr\n",
    "\n",
    "ans = pd.DataFrame(index=pred.index)\n",
    "ans['proba'] = pred.mean(axis=1)\n",
    "ans.to_csv('mean.csv')"
   ]
  }
 ],
 "metadata": {
  "kernelspec": {
   "display_name": "Python 3",
   "language": "python",
   "name": "python3"
  },
  "language_info": {
   "codemirror_mode": {
    "name": "ipython",
    "version": 3
   },
   "file_extension": ".py",
   "mimetype": "text/x-python",
   "name": "python",
   "nbconvert_exporter": "python",
   "pygments_lexer": "ipython3",
   "version": "3.7.3"
  }
 },
 "nbformat": 4,
 "nbformat_minor": 2
}
