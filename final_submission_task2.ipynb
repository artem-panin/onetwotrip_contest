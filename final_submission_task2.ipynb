{
 "cells": [
  {
   "cell_type": "code",
   "execution_count": 1,
   "metadata": {},
   "outputs": [
    {
     "name": "stderr",
     "output_type": "stream",
     "text": [
      "/Users/arty/anaconda3/lib/python3.7/site-packages/lightgbm/__init__.py:46: UserWarning: Starting from version 2.2.1, the library file in distribution wheels for macOS is built by the Apple Clang (Xcode_9.4.1) compiler.\n",
      "This means that in case of installing LightGBM from PyPI via the ``pip install lightgbm`` command, you don't need to install the gcc compiler anymore.\n",
      "Instead of that, you need to install the OpenMP library, which is required for running LightGBM on the system with the Apple Clang compiler.\n",
      "You can install the OpenMP library by the following command: ``brew install libomp``.\n",
      "  \"You can install the OpenMP library by the following command: ``brew install libomp``.\", UserWarning)\n"
     ]
    }
   ],
   "source": [
    "import pandas as pd\n",
    "from sklearn.model_selection import StratifiedKFold\n",
    "from sklearn.preprocessing import LabelEncoder\n",
    "from utils import RepeatedStratifiedGroupKFold\n",
    "import lightgbm as lgb\n",
    "\n",
    "from tqdm import tqdm_notebook\n",
    "import numpy as np\n",
    "%matplotlib inline"
   ]
  },
  {
   "cell_type": "code",
   "execution_count": 2,
   "metadata": {
    "scrolled": true
   },
   "outputs": [],
   "source": [
    "df_train = pd.read_csv('input/onetwotrip_challenge_train.csv')\n",
    "df_test = pd.read_csv('input/onetwotrip_challenge_test.csv')"
   ]
  },
  {
   "cell_type": "code",
   "execution_count": 4,
   "metadata": {},
   "outputs": [],
   "source": [
    "ltr = len(df_train)\n",
    "df_train = df_train.sort_values(by=['userid', 'field4'])\n",
    "df_test = df_test.sort_values(by=['userid', 'field4'])\n",
    "df_test['orderid'] += ltr"
   ]
  },
  {
   "cell_type": "code",
   "execution_count": null,
   "metadata": {
    "scrolled": false
   },
   "outputs": [],
   "source": [
    "data = pd.concat([df_train, df_test], axis=0).reset_index(drop=True)\n",
    "data['userid'] = LabelEncoder().fit_transform(data['userid'])"
   ]
  },
  {
   "cell_type": "code",
   "execution_count": null,
   "metadata": {},
   "outputs": [],
   "source": [
    "data['order_diff'] = data['orderid'] - data.groupby('userid')['orderid'].shift()\n",
    "data['order_pct_change'] = data.groupby('userid')['orderid'].pct_change() \n",
    "data['order_diff_shift'] = data.groupby('userid')['order_diff'].shift(-1)\n",
    "data['diff_order_cumsum'] = data.groupby('userid')['order_diff'].cumsum()\n",
    "\n",
    "data['num_orders'] = data.groupby('userid')['userid'].transform('count')\n",
    "data['num_orders_bin'] = np.where(data['num_orders'] > 1, 1, 0)\n",
    "\n",
    "data['adult_pct'] = data['field24'] / data['field15']\n",
    "data['child_pct'] = data['field28'] / data['field15']\n",
    "data['baby_pct'] = data['field9'] / data['field15']\n",
    "\n",
    "data['is_first'] = np.where(data['field4'] == 1, 1, 0)\n",
    "data['first_order_diff'] = data.groupby('userid')['field0'].cumsum()\n",
    "data['field0_adj'] = data.groupby('userid')['field0'].apply(lambda x: x.replace(0, method='ffill'))"
   ]
  },
  {
   "cell_type": "code",
   "execution_count": null,
   "metadata": {},
   "outputs": [],
   "source": [
    "categorical_cols = {'field2', 'field3', 'field5', 'field7', 'field8', 'field9', 'field10', 'field18', 'field19', \n",
    "                    'field20', 'field21', 'field24', 'field27', 'field28', 'field29', 'indicator_goal21', \n",
    "                    'indicator_goal22', 'indicator_goal23', 'indicator_goal24', 'indicator_goal25'}\n",
    "useful_cols = list(set(data.columns) - {'goal1', 'goal21', 'goal22', 'goal23', 'goal24', 'goal25', 'orderid'})\n",
    "\n",
    "for col in tqdm_notebook(useful_cols):\n",
    "    data['vc_' + col] = data.groupby(col)[col].transform(\"count\")\n",
    "    data['mean_' + col] = data.groupby(col)[col].transform(\"mean\")\n",
    "    data['std_' + col] = data.groupby(col)[col].transform(\"std\")\n",
    "    data['prev_' + col] = data.groupby('userid')[col].shift(1)\n",
    "    data['next_' + col] = data.groupby('userid')[col].shift(-1)\n",
    "    data['prev2_' + col] = data.groupby('userid')[col].shift(2)\n",
    "    data['next2_' + col] = data.groupby('userid')[col].shift(-2)\n",
    "    data['prev3_' + col] = data.groupby('userid')[col].shift(3)\n",
    "    data['next3_' + col] = data.groupby('userid')[col].shift(-3)\n",
    "    data['cnt_userid_' + col] = data['userid'].map(data.groupby('userid')[col].apply(lambda x: x.unique().size).to_dict())\n",
    "    data['ratio_userid_' + col] = data['userid'].map(data.groupby('userid')[col].apply(lambda x: x.unique().size / len(x)).to_dict())\n"
   ]
  },
  {
   "cell_type": "code",
   "execution_count": null,
   "metadata": {},
   "outputs": [],
   "source": [
    "def process_column(data, df_train, enc_col, col):\n",
    "    df_group = df_train.groupby(col)[enc_col]\n",
    "    data[f'mean_{enc_col}_{col}'] = df_group.transform('mean')\n",
    "    data[f'std_{enc_col}_{col}'] = df_group.transform('std')\n",
    "\n",
    "def feature_engineering(data, df_train):\n",
    "    for enc_col in ['goal1', 'goal21', 'goal22', 'goal23', 'goal24', 'goal25']:\n",
    "        for col in tqdm_notebook(categorical_cols):\n",
    "            process_column(data, df_train, enc_col, col)\n",
    "    return data"
   ]
  },
  {
   "cell_type": "code",
   "execution_count": null,
   "metadata": {},
   "outputs": [],
   "source": [
    "train_idx = data[~data['goal1'].isna()].index\n",
    "test_idx = data[data['goal1'].isna()].index"
   ]
  },
  {
   "cell_type": "code",
   "execution_count": null,
   "metadata": {
    "scrolled": true
   },
   "outputs": [],
   "source": [
    "param_lgb = {\n",
    "    'bagging_fraction': 0.8,\n",
    "    'bagging_freq': 1,\n",
    "    'boost': 'gbdt',\n",
    "    'feature_fraction': 0.8,\n",
    "    'learning_rate': 0.01,\n",
    "    'metric':'auc',\n",
    "    'num_leaves': 31,\n",
    "    'num_threads': 8,\n",
    "    'objective': 'binary',\n",
    "}\n",
    "\n",
    "excluded_cols = {'goal1', 'goal21', 'goal22', 'goal23', 'goal24', 'goal25', 'orderid'}\n",
    "train_cols = list(set(data.columns) - excluded_cols)\n",
    "\n",
    "\n",
    "kf = RepeatedStratifiedGroupKFold(n_splits=10)\n",
    "ans = pd.DataFrame(index=df_test['orderid'] - ltr)\n",
    "\n",
    "for goal in {'goal21', 'goal22', 'goal23', 'goal24', 'goal25'}:\n",
    "    pred = pd.DataFrame()\n",
    "    score = []\n",
    "\n",
    "    for i , (train_index, test_index) in enumerate(kf.split(data.loc[train_idx, :], \n",
    "                                                            data.loc[train_idx, goal].astype('int'),\n",
    "                                                            groups=data.loc[train_idx, 'userid'],\n",
    "                                                           )):\n",
    "        data = feature_engineering(data, data.iloc[train_index])\n",
    "        X_train, y_train = data.loc[train_index, train_cols], data.loc[train_index, goal]\n",
    "        X_test, y_test = data.loc[test_index, train_cols], data.loc[test_index, goal]\n",
    "        tr = lgb.Dataset(np.array(X_train), np.array(y_train))\n",
    "        te = lgb.Dataset(np.array(X_test), np.array(y_test), reference=tr)\n",
    "        bst = lgb.train(param_lgb, tr, num_boost_round=10000, \n",
    "                valid_sets=te, early_stopping_rounds=int(5 / param_lgb['learning_rate']), verbose_eval=100)\n",
    "        score.append(bst.best_score['valid_0']['auc'])\n",
    "\n",
    "        pred[str(i)] = bst.predict(data.loc[test_idx, train_cols])\n",
    "        \n",
    "    pred.index = data.loc[test_idx, 'orderid'] - ltr\n",
    "    ans[goal] = pred.mean(axis=1)"
   ]
  },
  {
   "cell_type": "code",
   "execution_count": null,
   "metadata": {},
   "outputs": [],
   "source": [
    "ans = ans.sort_index()\n",
    "ans.to_csv('task2_.csv')"
   ]
  }
 ],
 "metadata": {
  "kernelspec": {
   "display_name": "Python 3",
   "language": "python",
   "name": "python3"
  },
  "language_info": {
   "codemirror_mode": {
    "name": "ipython",
    "version": 3
   },
   "file_extension": ".py",
   "mimetype": "text/x-python",
   "name": "python",
   "nbconvert_exporter": "python",
   "pygments_lexer": "ipython3",
   "version": "3.7.3"
  }
 },
 "nbformat": 4,
 "nbformat_minor": 2
}
