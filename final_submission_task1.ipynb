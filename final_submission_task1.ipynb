{
 "cells": [
  {
   "cell_type": "code",
   "execution_count": 3,
   "metadata": {},
   "outputs": [],
   "source": [
    "import pandas as pd\n",
    "from sklearn.model_selection import StratifiedKFold\n",
    "from sklearn.preprocessing import LabelEncoder\n",
    "from utils import RepeatedStratifiedGroupKFold\n",
    "import lightgbm as lgb\n",
    "\n",
    "import pandas_profiling\n",
    "from tqdm import tqdm_notebook\n",
    "import numpy as np\n",
    "%matplotlib inline"
   ]
  },
  {
   "cell_type": "code",
   "execution_count": 4,
   "metadata": {
    "scrolled": true
   },
   "outputs": [],
   "source": [
    "df_train = pd.read_csv('input/onetwotrip_challenge_train.csv')\n",
    "df_test = pd.read_csv('input/onetwotrip_challenge_test.csv')"
   ]
  },
  {
   "cell_type": "code",
   "execution_count": 5,
   "metadata": {},
   "outputs": [],
   "source": [
    "ltr = len(df_train)\n",
    "df_train = df_train.sort_values(by=['userid', 'field4'])\n",
    "df_test = df_test.sort_values(by=['userid', 'field4'])\n",
    "df_test['orderid'] += ltr"
   ]
  },
  {
   "cell_type": "code",
   "execution_count": 6,
   "metadata": {
    "scrolled": false
   },
   "outputs": [
    {
     "name": "stderr",
     "output_type": "stream",
     "text": [
      "/Users/arty/anaconda3/lib/python3.7/site-packages/ipykernel_launcher.py:1: FutureWarning: Sorting because non-concatenation axis is not aligned. A future version\n",
      "of pandas will change to not sort by default.\n",
      "\n",
      "To accept the future behavior, pass 'sort=False'.\n",
      "\n",
      "To retain the current behavior and silence the warning, pass 'sort=True'.\n",
      "\n",
      "  \"\"\"Entry point for launching an IPython kernel.\n"
     ]
    }
   ],
   "source": [
    "data = pd.concat([df_train, df_test], axis=0).reset_index(drop=True)"
   ]
  },
  {
   "cell_type": "code",
   "execution_count": 7,
   "metadata": {},
   "outputs": [],
   "source": [
    "data['userid'] = LabelEncoder().fit_transform(data['userid'])\n",
    "\n",
    "data['order_diff'] = data['orderid'] - data.groupby('userid')['orderid'].shift()\n",
    "data['order_pct_change'] = data.groupby('userid')['orderid'].pct_change() \n",
    "data['order_diff_shift'] = data.groupby('userid')['order_diff'].shift(-1)\n",
    "data['diff_order_cumsum'] = data.groupby('userid')['order_diff'].cumsum()\n",
    "\n",
    "data['num_orders'] = data.groupby('userid')['userid'].transform('count')\n",
    "data['num_orders_bin'] = np.where(data['num_orders'] > 1, 1, 0)\n",
    "\n",
    "data['adult_pct'] = data['field24'] / data['field15']\n",
    "data['child_pct'] = data['field28'] / data['field15']\n",
    "data['baby_pct'] = data['field9'] / data['field15']\n",
    "\n",
    "data['is_first'] = np.where(data['field4'] == 1, 1, 0)\n",
    "data['first_order_diff'] = data.groupby('userid')['field0'].cumsum()\n",
    "data['field0_adj'] = data.groupby('userid')['field0'].apply(lambda x: x.replace(0, method='ffill'))"
   ]
  },
  {
   "cell_type": "code",
   "execution_count": 8,
   "metadata": {
    "scrolled": true
   },
   "outputs": [
    {
     "data": {
      "application/vnd.jupyter.widget-view+json": {
       "model_id": "141d218530514f03a192a990f7b67ade",
       "version_major": 2,
       "version_minor": 0
      },
      "text/plain": [
       "HBox(children=(IntProgress(value=0, max=48), HTML(value='')))"
      ]
     },
     "metadata": {},
     "output_type": "display_data"
    },
    {
     "name": "stdout",
     "output_type": "stream",
     "text": [
      "\n"
     ]
    }
   ],
   "source": [
    "categorical_cols = {'field2', 'field3', 'field5', 'field7', 'field8', 'field9', 'field10', 'field18', 'field19', \n",
    "                    'field20', 'field21', 'field24', 'field27', 'field28', 'field29', 'indicator_goal21', \n",
    "                    'indicator_goal22', 'indicator_goal23', 'indicator_goal24', 'indicator_goal25'}\n",
    "useful_cols = list(set(data.columns) - {'goal1', 'goal21', 'goal22', 'goal23', 'goal24', 'goal25', 'orderid'})\n",
    "\n",
    "for col in tqdm_notebook(useful_cols):\n",
    "    data['vc_' + col] = data.groupby(col)[col].transform(\"count\")\n",
    "    data['mean_' + col] = data.groupby(col)[col].transform(\"mean\")\n",
    "    data['std_' + col] = data.groupby(col)[col].transform(\"std\")\n",
    "    data['prev_' + col] = data.groupby('userid')[col].shift(1)\n",
    "    data['next_' + col] = data.groupby('userid')[col].shift(-1)\n",
    "    data['prev2_' + col] = data.groupby('userid')[col].shift(2)\n",
    "    data['next2_' + col] = data.groupby('userid')[col].shift(-2)\n",
    "    data['prev3_' + col] = data.groupby('userid')[col].shift(3)\n",
    "    data['next3_' + col] = data.groupby('userid')[col].shift(-3)\n",
    "    data['cnt_userid_' + col] = data['userid'].map(data.groupby('userid')[col].apply(lambda x: x.unique().size).to_dict())\n",
    "    data['ratio_userid_' + col] = data['userid'].map(data.groupby('userid')[col].apply(lambda x: x.unique().size / len(x)).to_dict())"
   ]
  },
  {
   "cell_type": "code",
   "execution_count": 9,
   "metadata": {},
   "outputs": [],
   "source": [
    "def process_column(data, df_train, enc_col, col):\n",
    "    df_group = df_train.groupby(col)[enc_col]\n",
    "    data[f'mean_{enc_col}_{col}'] = df_group.transform('mean')\n",
    "    data[f'std_{enc_col}_{col}'] = df_group.transform('std')\n",
    "\n",
    "def feature_engineering(data, df_train):\n",
    "    for enc_col in ['goal1', 'goal21', 'goal22', 'goal23', 'goal24', 'goal25']:\n",
    "        for col in tqdm_notebook(categorical_cols):\n",
    "            process_column(data, df_train, enc_col, col)\n",
    "    return data"
   ]
  },
  {
   "cell_type": "code",
   "execution_count": 10,
   "metadata": {},
   "outputs": [],
   "source": [
    "train_idx = data[~data['goal1'].isna()].index\n",
    "test_idx = data[data['goal1'].isna()].index"
   ]
  },
  {
   "cell_type": "code",
   "execution_count": 12,
   "metadata": {
    "scrolled": true
   },
   "outputs": [
    {
     "data": {
      "application/vnd.jupyter.widget-view+json": {
       "model_id": "521d307a47dd47218a29beb71bb32d60",
       "version_major": 2,
       "version_minor": 0
      },
      "text/plain": [
       "HBox(children=(IntProgress(value=1, bar_style='info', max=1), HTML(value='')))"
      ]
     },
     "metadata": {},
     "output_type": "display_data"
    },
    {
     "name": "stdout",
     "output_type": "stream",
     "text": [
      "\n"
     ]
    },
    {
     "data": {
      "application/vnd.jupyter.widget-view+json": {
       "model_id": "84aada61b5664bfc92099531887bfd5b",
       "version_major": 2,
       "version_minor": 0
      },
      "text/plain": [
       "HBox(children=(IntProgress(value=0, max=113902), HTML(value='')))"
      ]
     },
     "metadata": {},
     "output_type": "display_data"
    },
    {
     "name": "stdout",
     "output_type": "stream",
     "text": [
      "\n"
     ]
    },
    {
     "data": {
      "application/vnd.jupyter.widget-view+json": {
       "model_id": "db00b42851d84b6b9a9a50d7fa8b6fc3",
       "version_major": 2,
       "version_minor": 0
      },
      "text/plain": [
       "HBox(children=(IntProgress(value=0, max=10), HTML(value='')))"
      ]
     },
     "metadata": {},
     "output_type": "display_data"
    },
    {
     "data": {
      "application/vnd.jupyter.widget-view+json": {
       "model_id": "e0e9653874d045e3afa3e34b2695c40a",
       "version_major": 2,
       "version_minor": 0
      },
      "text/plain": [
       "HBox(children=(IntProgress(value=0, max=20), HTML(value='')))"
      ]
     },
     "metadata": {},
     "output_type": "display_data"
    },
    {
     "data": {
      "application/vnd.jupyter.widget-view+json": {
       "model_id": "0904421e3b13492988fc06f3f1393e49",
       "version_major": 2,
       "version_minor": 0
      },
      "text/plain": [
       "HBox(children=(IntProgress(value=0, max=20), HTML(value='')))"
      ]
     },
     "metadata": {},
     "output_type": "display_data"
    },
    {
     "data": {
      "application/vnd.jupyter.widget-view+json": {
       "model_id": "5e65fa31383245dd8967e0b878ed68ed",
       "version_major": 2,
       "version_minor": 0
      },
      "text/plain": [
       "HBox(children=(IntProgress(value=0, max=20), HTML(value='')))"
      ]
     },
     "metadata": {},
     "output_type": "display_data"
    },
    {
     "data": {
      "application/vnd.jupyter.widget-view+json": {
       "model_id": "c6c1feebb8a9408bb31cb1fad29c9608",
       "version_major": 2,
       "version_minor": 0
      },
      "text/plain": [
       "HBox(children=(IntProgress(value=0, max=20), HTML(value='')))"
      ]
     },
     "metadata": {},
     "output_type": "display_data"
    },
    {
     "data": {
      "application/vnd.jupyter.widget-view+json": {
       "model_id": "ab339e11b8a74e4987f0e0d7ecbe95de",
       "version_major": 2,
       "version_minor": 0
      },
      "text/plain": [
       "HBox(children=(IntProgress(value=0, max=20), HTML(value='')))"
      ]
     },
     "metadata": {},
     "output_type": "display_data"
    },
    {
     "data": {
      "application/vnd.jupyter.widget-view+json": {
       "model_id": "972d89c9a86b4ab5b3693f5f60dc998f",
       "version_major": 2,
       "version_minor": 0
      },
      "text/plain": [
       "HBox(children=(IntProgress(value=0, max=20), HTML(value='')))"
      ]
     },
     "metadata": {},
     "output_type": "display_data"
    },
    {
     "name": "stdout",
     "output_type": "stream",
     "text": [
      "Training until validation scores don't improve for 500 rounds.\n",
      "[100]\tvalid_0's auc: 0.687967\n",
      "[200]\tvalid_0's auc: 0.69604\n",
      "[300]\tvalid_0's auc: 0.69875\n",
      "[400]\tvalid_0's auc: 0.700795\n",
      "[500]\tvalid_0's auc: 0.701601\n",
      "[600]\tvalid_0's auc: 0.701391\n",
      "[700]\tvalid_0's auc: 0.702992\n",
      "[800]\tvalid_0's auc: 0.703749\n",
      "[900]\tvalid_0's auc: 0.704844\n",
      "[1000]\tvalid_0's auc: 0.705937\n",
      "[1100]\tvalid_0's auc: 0.706367\n",
      "[1200]\tvalid_0's auc: 0.706235\n",
      "[1300]\tvalid_0's auc: 0.706145\n",
      "[1400]\tvalid_0's auc: 0.706482\n",
      "[1500]\tvalid_0's auc: 0.705845\n",
      "[1600]\tvalid_0's auc: 0.705829\n",
      "Early stopping, best iteration is:\n",
      "[1173]\tvalid_0's auc: 0.706598\n"
     ]
    },
    {
     "data": {
      "application/vnd.jupyter.widget-view+json": {
       "model_id": "ca87a93a09c149a792b9929343ba76a2",
       "version_major": 2,
       "version_minor": 0
      },
      "text/plain": [
       "HBox(children=(IntProgress(value=0, max=20), HTML(value='')))"
      ]
     },
     "metadata": {},
     "output_type": "display_data"
    },
    {
     "data": {
      "application/vnd.jupyter.widget-view+json": {
       "model_id": "1b510480eec44c05ae8d9f6609f2cc97",
       "version_major": 2,
       "version_minor": 0
      },
      "text/plain": [
       "HBox(children=(IntProgress(value=0, max=20), HTML(value='')))"
      ]
     },
     "metadata": {},
     "output_type": "display_data"
    },
    {
     "data": {
      "application/vnd.jupyter.widget-view+json": {
       "model_id": "17872bc250eb40e3930763d59d6057b9",
       "version_major": 2,
       "version_minor": 0
      },
      "text/plain": [
       "HBox(children=(IntProgress(value=0, max=20), HTML(value='')))"
      ]
     },
     "metadata": {},
     "output_type": "display_data"
    },
    {
     "data": {
      "application/vnd.jupyter.widget-view+json": {
       "model_id": "987cfc6e59a4436facf865e958164beb",
       "version_major": 2,
       "version_minor": 0
      },
      "text/plain": [
       "HBox(children=(IntProgress(value=0, max=20), HTML(value='')))"
      ]
     },
     "metadata": {},
     "output_type": "display_data"
    },
    {
     "data": {
      "application/vnd.jupyter.widget-view+json": {
       "model_id": "1391578ee1c143ccbc93bc80898e3f0c",
       "version_major": 2,
       "version_minor": 0
      },
      "text/plain": [
       "HBox(children=(IntProgress(value=0, max=20), HTML(value='')))"
      ]
     },
     "metadata": {},
     "output_type": "display_data"
    },
    {
     "data": {
      "application/vnd.jupyter.widget-view+json": {
       "model_id": "3996e9d6a7c445ff98e706f70e6636b8",
       "version_major": 2,
       "version_minor": 0
      },
      "text/plain": [
       "HBox(children=(IntProgress(value=0, max=20), HTML(value='')))"
      ]
     },
     "metadata": {},
     "output_type": "display_data"
    },
    {
     "name": "stdout",
     "output_type": "stream",
     "text": [
      "Training until validation scores don't improve for 500 rounds.\n",
      "[100]\tvalid_0's auc: 0.690233\n",
      "[200]\tvalid_0's auc: 0.699967\n",
      "[300]\tvalid_0's auc: 0.70048\n",
      "[400]\tvalid_0's auc: 0.699095\n",
      "[500]\tvalid_0's auc: 0.698423\n",
      "[600]\tvalid_0's auc: 0.698497\n",
      "[700]\tvalid_0's auc: 0.696989\n",
      "Early stopping, best iteration is:\n",
      "[272]\tvalid_0's auc: 0.70069\n"
     ]
    },
    {
     "data": {
      "application/vnd.jupyter.widget-view+json": {
       "model_id": "4a60a0261f96463e8904be80ed3a386a",
       "version_major": 2,
       "version_minor": 0
      },
      "text/plain": [
       "HBox(children=(IntProgress(value=0, max=20), HTML(value='')))"
      ]
     },
     "metadata": {},
     "output_type": "display_data"
    },
    {
     "data": {
      "application/vnd.jupyter.widget-view+json": {
       "model_id": "b59fee571fed4fa194dd3883de04b8e3",
       "version_major": 2,
       "version_minor": 0
      },
      "text/plain": [
       "HBox(children=(IntProgress(value=0, max=20), HTML(value='')))"
      ]
     },
     "metadata": {},
     "output_type": "display_data"
    },
    {
     "data": {
      "application/vnd.jupyter.widget-view+json": {
       "model_id": "ed1d57f394254b408401f26bdb4342d9",
       "version_major": 2,
       "version_minor": 0
      },
      "text/plain": [
       "HBox(children=(IntProgress(value=0, max=20), HTML(value='')))"
      ]
     },
     "metadata": {},
     "output_type": "display_data"
    },
    {
     "data": {
      "application/vnd.jupyter.widget-view+json": {
       "model_id": "934870dd12664dd68b94b938bbfbd288",
       "version_major": 2,
       "version_minor": 0
      },
      "text/plain": [
       "HBox(children=(IntProgress(value=0, max=20), HTML(value='')))"
      ]
     },
     "metadata": {},
     "output_type": "display_data"
    },
    {
     "data": {
      "application/vnd.jupyter.widget-view+json": {
       "model_id": "e672642f84e741aa8e94d67fc180a46a",
       "version_major": 2,
       "version_minor": 0
      },
      "text/plain": [
       "HBox(children=(IntProgress(value=0, max=20), HTML(value='')))"
      ]
     },
     "metadata": {},
     "output_type": "display_data"
    },
    {
     "data": {
      "application/vnd.jupyter.widget-view+json": {
       "model_id": "b22fb1f2b9b3422c9d5acbfb33290d0d",
       "version_major": 2,
       "version_minor": 0
      },
      "text/plain": [
       "HBox(children=(IntProgress(value=0, max=20), HTML(value='')))"
      ]
     },
     "metadata": {},
     "output_type": "display_data"
    },
    {
     "name": "stdout",
     "output_type": "stream",
     "text": [
      "Training until validation scores don't improve for 500 rounds.\n",
      "[100]\tvalid_0's auc: 0.703994\n",
      "[200]\tvalid_0's auc: 0.710086\n",
      "[300]\tvalid_0's auc: 0.712125\n",
      "[400]\tvalid_0's auc: 0.713773\n",
      "[500]\tvalid_0's auc: 0.714358\n",
      "[600]\tvalid_0's auc: 0.715729\n",
      "[700]\tvalid_0's auc: 0.716412\n",
      "[800]\tvalid_0's auc: 0.717493\n",
      "[900]\tvalid_0's auc: 0.717521\n",
      "[1000]\tvalid_0's auc: 0.717662\n",
      "[1100]\tvalid_0's auc: 0.717912\n",
      "[1200]\tvalid_0's auc: 0.718223\n",
      "[1300]\tvalid_0's auc: 0.71826\n",
      "[1400]\tvalid_0's auc: 0.718447\n",
      "[1500]\tvalid_0's auc: 0.718378\n",
      "[1600]\tvalid_0's auc: 0.717774\n",
      "[1700]\tvalid_0's auc: 0.71712\n",
      "[1800]\tvalid_0's auc: 0.716901\n",
      "Early stopping, best iteration is:\n",
      "[1326]\tvalid_0's auc: 0.7186\n"
     ]
    },
    {
     "data": {
      "application/vnd.jupyter.widget-view+json": {
       "model_id": "d6f9e4e5a6f1497e9b3e560f9bc0b817",
       "version_major": 2,
       "version_minor": 0
      },
      "text/plain": [
       "HBox(children=(IntProgress(value=0, max=20), HTML(value='')))"
      ]
     },
     "metadata": {},
     "output_type": "display_data"
    },
    {
     "data": {
      "application/vnd.jupyter.widget-view+json": {
       "model_id": "5afd4e441f194ec2b64c83e16b1f3b11",
       "version_major": 2,
       "version_minor": 0
      },
      "text/plain": [
       "HBox(children=(IntProgress(value=0, max=20), HTML(value='')))"
      ]
     },
     "metadata": {},
     "output_type": "display_data"
    },
    {
     "data": {
      "application/vnd.jupyter.widget-view+json": {
       "model_id": "278979516a9645b8b7933d13e85a3809",
       "version_major": 2,
       "version_minor": 0
      },
      "text/plain": [
       "HBox(children=(IntProgress(value=0, max=20), HTML(value='')))"
      ]
     },
     "metadata": {},
     "output_type": "display_data"
    },
    {
     "data": {
      "application/vnd.jupyter.widget-view+json": {
       "model_id": "35231e39ab4c47aebff5338701983dff",
       "version_major": 2,
       "version_minor": 0
      },
      "text/plain": [
       "HBox(children=(IntProgress(value=0, max=20), HTML(value='')))"
      ]
     },
     "metadata": {},
     "output_type": "display_data"
    },
    {
     "data": {
      "application/vnd.jupyter.widget-view+json": {
       "model_id": "34b6c972adf845a698e80ddbc8a0a8aa",
       "version_major": 2,
       "version_minor": 0
      },
      "text/plain": [
       "HBox(children=(IntProgress(value=0, max=20), HTML(value='')))"
      ]
     },
     "metadata": {},
     "output_type": "display_data"
    },
    {
     "data": {
      "application/vnd.jupyter.widget-view+json": {
       "model_id": "1eeef879f5b140f4a3f6f0e23c637e89",
       "version_major": 2,
       "version_minor": 0
      },
      "text/plain": [
       "HBox(children=(IntProgress(value=0, max=20), HTML(value='')))"
      ]
     },
     "metadata": {},
     "output_type": "display_data"
    },
    {
     "name": "stdout",
     "output_type": "stream",
     "text": [
      "Training until validation scores don't improve for 500 rounds.\n",
      "[100]\tvalid_0's auc: 0.697409\n",
      "[200]\tvalid_0's auc: 0.706525\n",
      "[300]\tvalid_0's auc: 0.709027\n",
      "[400]\tvalid_0's auc: 0.710903\n",
      "[500]\tvalid_0's auc: 0.712162\n",
      "[600]\tvalid_0's auc: 0.713171\n",
      "[700]\tvalid_0's auc: 0.712746\n",
      "[800]\tvalid_0's auc: 0.712924\n",
      "[900]\tvalid_0's auc: 0.713275\n",
      "[1000]\tvalid_0's auc: 0.713371\n",
      "[1100]\tvalid_0's auc: 0.713139\n",
      "[1200]\tvalid_0's auc: 0.712549\n",
      "[1300]\tvalid_0's auc: 0.713023\n",
      "[1400]\tvalid_0's auc: 0.713083\n",
      "Early stopping, best iteration is:\n",
      "[973]\tvalid_0's auc: 0.713674\n"
     ]
    },
    {
     "data": {
      "application/vnd.jupyter.widget-view+json": {
       "model_id": "d0ae113355c94d01a5ba172436af441c",
       "version_major": 2,
       "version_minor": 0
      },
      "text/plain": [
       "HBox(children=(IntProgress(value=0, max=20), HTML(value='')))"
      ]
     },
     "metadata": {},
     "output_type": "display_data"
    },
    {
     "data": {
      "application/vnd.jupyter.widget-view+json": {
       "model_id": "108d7f49f7094a2691402939f6a14d16",
       "version_major": 2,
       "version_minor": 0
      },
      "text/plain": [
       "HBox(children=(IntProgress(value=0, max=20), HTML(value='')))"
      ]
     },
     "metadata": {},
     "output_type": "display_data"
    },
    {
     "data": {
      "application/vnd.jupyter.widget-view+json": {
       "model_id": "d2bb0cdb0a454dbeb8e929e997df9b7e",
       "version_major": 2,
       "version_minor": 0
      },
      "text/plain": [
       "HBox(children=(IntProgress(value=0, max=20), HTML(value='')))"
      ]
     },
     "metadata": {},
     "output_type": "display_data"
    },
    {
     "data": {
      "application/vnd.jupyter.widget-view+json": {
       "model_id": "23ce345afa834a64a157209beed6ef5f",
       "version_major": 2,
       "version_minor": 0
      },
      "text/plain": [
       "HBox(children=(IntProgress(value=0, max=20), HTML(value='')))"
      ]
     },
     "metadata": {},
     "output_type": "display_data"
    },
    {
     "data": {
      "application/vnd.jupyter.widget-view+json": {
       "model_id": "146bebacc1dd4ea9a2d7476feb0c2c13",
       "version_major": 2,
       "version_minor": 0
      },
      "text/plain": [
       "HBox(children=(IntProgress(value=0, max=20), HTML(value='')))"
      ]
     },
     "metadata": {},
     "output_type": "display_data"
    },
    {
     "data": {
      "application/vnd.jupyter.widget-view+json": {
       "model_id": "541b49ab36d2455aa4db489aa6332816",
       "version_major": 2,
       "version_minor": 0
      },
      "text/plain": [
       "HBox(children=(IntProgress(value=0, max=20), HTML(value='')))"
      ]
     },
     "metadata": {},
     "output_type": "display_data"
    },
    {
     "name": "stdout",
     "output_type": "stream",
     "text": [
      "Training until validation scores don't improve for 500 rounds.\n",
      "[100]\tvalid_0's auc: 0.688148\n",
      "[200]\tvalid_0's auc: 0.697315\n",
      "[300]\tvalid_0's auc: 0.70196\n",
      "[400]\tvalid_0's auc: 0.704476\n",
      "[500]\tvalid_0's auc: 0.705137\n",
      "[600]\tvalid_0's auc: 0.705469\n",
      "[700]\tvalid_0's auc: 0.705486\n",
      "[800]\tvalid_0's auc: 0.705855\n",
      "[900]\tvalid_0's auc: 0.705812\n",
      "[1000]\tvalid_0's auc: 0.705167\n",
      "[1100]\tvalid_0's auc: 0.704863\n",
      "[1200]\tvalid_0's auc: 0.703845\n",
      "[1300]\tvalid_0's auc: 0.703367\n",
      "Early stopping, best iteration is:\n",
      "[834]\tvalid_0's auc: 0.706117\n"
     ]
    },
    {
     "data": {
      "application/vnd.jupyter.widget-view+json": {
       "model_id": "f2711459d58c48c192d9683e55e427fe",
       "version_major": 2,
       "version_minor": 0
      },
      "text/plain": [
       "HBox(children=(IntProgress(value=0, max=20), HTML(value='')))"
      ]
     },
     "metadata": {},
     "output_type": "display_data"
    },
    {
     "data": {
      "application/vnd.jupyter.widget-view+json": {
       "model_id": "b22c1ce0c2b840d88f27d9e430fd66c2",
       "version_major": 2,
       "version_minor": 0
      },
      "text/plain": [
       "HBox(children=(IntProgress(value=0, max=20), HTML(value='')))"
      ]
     },
     "metadata": {},
     "output_type": "display_data"
    },
    {
     "data": {
      "application/vnd.jupyter.widget-view+json": {
       "model_id": "600a501f005b42cb87dc2bd63910e7df",
       "version_major": 2,
       "version_minor": 0
      },
      "text/plain": [
       "HBox(children=(IntProgress(value=0, max=20), HTML(value='')))"
      ]
     },
     "metadata": {},
     "output_type": "display_data"
    },
    {
     "data": {
      "application/vnd.jupyter.widget-view+json": {
       "model_id": "74a231418d684f0f94b880265258f37f",
       "version_major": 2,
       "version_minor": 0
      },
      "text/plain": [
       "HBox(children=(IntProgress(value=0, max=20), HTML(value='')))"
      ]
     },
     "metadata": {},
     "output_type": "display_data"
    },
    {
     "data": {
      "application/vnd.jupyter.widget-view+json": {
       "model_id": "881464f4a68d44cb93d4b9231c1d6891",
       "version_major": 2,
       "version_minor": 0
      },
      "text/plain": [
       "HBox(children=(IntProgress(value=0, max=20), HTML(value='')))"
      ]
     },
     "metadata": {},
     "output_type": "display_data"
    },
    {
     "data": {
      "application/vnd.jupyter.widget-view+json": {
       "model_id": "2179f69271c64753a7ee47e9c20c2a0c",
       "version_major": 2,
       "version_minor": 0
      },
      "text/plain": [
       "HBox(children=(IntProgress(value=0, max=20), HTML(value='')))"
      ]
     },
     "metadata": {},
     "output_type": "display_data"
    },
    {
     "name": "stdout",
     "output_type": "stream",
     "text": [
      "Training until validation scores don't improve for 500 rounds.\n",
      "[100]\tvalid_0's auc: 0.675566\n",
      "[200]\tvalid_0's auc: 0.687704\n",
      "[300]\tvalid_0's auc: 0.693089\n",
      "[400]\tvalid_0's auc: 0.694851\n",
      "[500]\tvalid_0's auc: 0.696441\n",
      "[600]\tvalid_0's auc: 0.696507\n",
      "[700]\tvalid_0's auc: 0.695761\n",
      "[800]\tvalid_0's auc: 0.694919\n",
      "[900]\tvalid_0's auc: 0.694947\n",
      "[1000]\tvalid_0's auc: 0.693958\n",
      "Early stopping, best iteration is:\n",
      "[583]\tvalid_0's auc: 0.696911\n"
     ]
    },
    {
     "data": {
      "application/vnd.jupyter.widget-view+json": {
       "model_id": "006bed7099df44c2bfa716ff6338710a",
       "version_major": 2,
       "version_minor": 0
      },
      "text/plain": [
       "HBox(children=(IntProgress(value=0, max=20), HTML(value='')))"
      ]
     },
     "metadata": {},
     "output_type": "display_data"
    },
    {
     "data": {
      "application/vnd.jupyter.widget-view+json": {
       "model_id": "2b942b80d7c241dcac0018fa43bb7385",
       "version_major": 2,
       "version_minor": 0
      },
      "text/plain": [
       "HBox(children=(IntProgress(value=0, max=20), HTML(value='')))"
      ]
     },
     "metadata": {},
     "output_type": "display_data"
    },
    {
     "data": {
      "application/vnd.jupyter.widget-view+json": {
       "model_id": "c2a31300861b4d59adf0b25088c92bb6",
       "version_major": 2,
       "version_minor": 0
      },
      "text/plain": [
       "HBox(children=(IntProgress(value=0, max=20), HTML(value='')))"
      ]
     },
     "metadata": {},
     "output_type": "display_data"
    },
    {
     "data": {
      "application/vnd.jupyter.widget-view+json": {
       "model_id": "132a4307fb1f489795b5d3fcb0124d71",
       "version_major": 2,
       "version_minor": 0
      },
      "text/plain": [
       "HBox(children=(IntProgress(value=0, max=20), HTML(value='')))"
      ]
     },
     "metadata": {},
     "output_type": "display_data"
    },
    {
     "data": {
      "application/vnd.jupyter.widget-view+json": {
       "model_id": "2df216f86f2a4b0f98979eabb7dbfeed",
       "version_major": 2,
       "version_minor": 0
      },
      "text/plain": [
       "HBox(children=(IntProgress(value=0, max=20), HTML(value='')))"
      ]
     },
     "metadata": {},
     "output_type": "display_data"
    },
    {
     "data": {
      "application/vnd.jupyter.widget-view+json": {
       "model_id": "3ab281dd29c04933b0b42ad7614566cb",
       "version_major": 2,
       "version_minor": 0
      },
      "text/plain": [
       "HBox(children=(IntProgress(value=0, max=20), HTML(value='')))"
      ]
     },
     "metadata": {},
     "output_type": "display_data"
    },
    {
     "name": "stdout",
     "output_type": "stream",
     "text": [
      "Training until validation scores don't improve for 500 rounds.\n",
      "[100]\tvalid_0's auc: 0.717497\n",
      "[200]\tvalid_0's auc: 0.72445\n",
      "[300]\tvalid_0's auc: 0.727934\n",
      "[400]\tvalid_0's auc: 0.729517\n",
      "[500]\tvalid_0's auc: 0.729821\n",
      "[600]\tvalid_0's auc: 0.729381\n",
      "[700]\tvalid_0's auc: 0.728372\n",
      "[800]\tvalid_0's auc: 0.727332\n",
      "[900]\tvalid_0's auc: 0.725952\n",
      "Early stopping, best iteration is:\n",
      "[462]\tvalid_0's auc: 0.730604\n"
     ]
    },
    {
     "data": {
      "application/vnd.jupyter.widget-view+json": {
       "model_id": "0f96b823def54b5f87af53f63ef1f62f",
       "version_major": 2,
       "version_minor": 0
      },
      "text/plain": [
       "HBox(children=(IntProgress(value=0, max=20), HTML(value='')))"
      ]
     },
     "metadata": {},
     "output_type": "display_data"
    },
    {
     "data": {
      "application/vnd.jupyter.widget-view+json": {
       "model_id": "b60a138cd7574b2c9a9956310de4ff70",
       "version_major": 2,
       "version_minor": 0
      },
      "text/plain": [
       "HBox(children=(IntProgress(value=0, max=20), HTML(value='')))"
      ]
     },
     "metadata": {},
     "output_type": "display_data"
    },
    {
     "data": {
      "application/vnd.jupyter.widget-view+json": {
       "model_id": "1fe78d4c925f45b2947876723267d51b",
       "version_major": 2,
       "version_minor": 0
      },
      "text/plain": [
       "HBox(children=(IntProgress(value=0, max=20), HTML(value='')))"
      ]
     },
     "metadata": {},
     "output_type": "display_data"
    },
    {
     "data": {
      "application/vnd.jupyter.widget-view+json": {
       "model_id": "68668c6f4a6b42db9c67cee584b3087b",
       "version_major": 2,
       "version_minor": 0
      },
      "text/plain": [
       "HBox(children=(IntProgress(value=0, max=20), HTML(value='')))"
      ]
     },
     "metadata": {},
     "output_type": "display_data"
    },
    {
     "data": {
      "application/vnd.jupyter.widget-view+json": {
       "model_id": "2398ec93e1fd49b982da4f8503fffa52",
       "version_major": 2,
       "version_minor": 0
      },
      "text/plain": [
       "HBox(children=(IntProgress(value=0, max=20), HTML(value='')))"
      ]
     },
     "metadata": {},
     "output_type": "display_data"
    },
    {
     "data": {
      "application/vnd.jupyter.widget-view+json": {
       "model_id": "404871a909dc4146bdac6b2e8deffba1",
       "version_major": 2,
       "version_minor": 0
      },
      "text/plain": [
       "HBox(children=(IntProgress(value=0, max=20), HTML(value='')))"
      ]
     },
     "metadata": {},
     "output_type": "display_data"
    },
    {
     "name": "stdout",
     "output_type": "stream",
     "text": [
      "Training until validation scores don't improve for 500 rounds.\n",
      "[100]\tvalid_0's auc: 0.706145\n",
      "[200]\tvalid_0's auc: 0.710628\n",
      "[300]\tvalid_0's auc: 0.716204\n",
      "[400]\tvalid_0's auc: 0.718566\n",
      "[500]\tvalid_0's auc: 0.71952\n",
      "[600]\tvalid_0's auc: 0.719223\n",
      "[700]\tvalid_0's auc: 0.718889\n",
      "[800]\tvalid_0's auc: 0.719814\n",
      "[900]\tvalid_0's auc: 0.719683\n",
      "[1000]\tvalid_0's auc: 0.718432\n",
      "[1100]\tvalid_0's auc: 0.717155\n",
      "[1200]\tvalid_0's auc: 0.71738\n",
      "[1300]\tvalid_0's auc: 0.717111\n",
      "Early stopping, best iteration is:\n",
      "[849]\tvalid_0's auc: 0.72009\n"
     ]
    },
    {
     "data": {
      "application/vnd.jupyter.widget-view+json": {
       "model_id": "585177eae302404aa7256c9d7206e78e",
       "version_major": 2,
       "version_minor": 0
      },
      "text/plain": [
       "HBox(children=(IntProgress(value=0, max=20), HTML(value='')))"
      ]
     },
     "metadata": {},
     "output_type": "display_data"
    },
    {
     "data": {
      "application/vnd.jupyter.widget-view+json": {
       "model_id": "9d653e0495c3446181c823e0b2427216",
       "version_major": 2,
       "version_minor": 0
      },
      "text/plain": [
       "HBox(children=(IntProgress(value=0, max=20), HTML(value='')))"
      ]
     },
     "metadata": {},
     "output_type": "display_data"
    },
    {
     "data": {
      "application/vnd.jupyter.widget-view+json": {
       "model_id": "c63508abe67b42c289815e37bf10b001",
       "version_major": 2,
       "version_minor": 0
      },
      "text/plain": [
       "HBox(children=(IntProgress(value=0, max=20), HTML(value='')))"
      ]
     },
     "metadata": {},
     "output_type": "display_data"
    },
    {
     "data": {
      "application/vnd.jupyter.widget-view+json": {
       "model_id": "0d0f3820de584f198f9400315b7d1159",
       "version_major": 2,
       "version_minor": 0
      },
      "text/plain": [
       "HBox(children=(IntProgress(value=0, max=20), HTML(value='')))"
      ]
     },
     "metadata": {},
     "output_type": "display_data"
    },
    {
     "data": {
      "application/vnd.jupyter.widget-view+json": {
       "model_id": "f94fb33805bd4d8293fa22c5d3f61fd3",
       "version_major": 2,
       "version_minor": 0
      },
      "text/plain": [
       "HBox(children=(IntProgress(value=0, max=20), HTML(value='')))"
      ]
     },
     "metadata": {},
     "output_type": "display_data"
    },
    {
     "data": {
      "application/vnd.jupyter.widget-view+json": {
       "model_id": "d99228c214094b72b6068bc2f327e6b6",
       "version_major": 2,
       "version_minor": 0
      },
      "text/plain": [
       "HBox(children=(IntProgress(value=0, max=20), HTML(value='')))"
      ]
     },
     "metadata": {},
     "output_type": "display_data"
    },
    {
     "name": "stdout",
     "output_type": "stream",
     "text": [
      "Training until validation scores don't improve for 500 rounds.\n",
      "[100]\tvalid_0's auc: 0.680962\n",
      "[200]\tvalid_0's auc: 0.686925\n",
      "[300]\tvalid_0's auc: 0.691706\n",
      "[400]\tvalid_0's auc: 0.695281\n",
      "[500]\tvalid_0's auc: 0.697603\n",
      "[600]\tvalid_0's auc: 0.697397\n",
      "[700]\tvalid_0's auc: 0.696971\n",
      "[800]\tvalid_0's auc: 0.696609\n",
      "[900]\tvalid_0's auc: 0.696829\n",
      "[1000]\tvalid_0's auc: 0.696594\n",
      "[1100]\tvalid_0's auc: 0.695579\n",
      "Early stopping, best iteration is:\n",
      "[621]\tvalid_0's auc: 0.697618\n"
     ]
    },
    {
     "data": {
      "application/vnd.jupyter.widget-view+json": {
       "model_id": "7afe85fb8fc44517b586817a6a7221fc",
       "version_major": 2,
       "version_minor": 0
      },
      "text/plain": [
       "HBox(children=(IntProgress(value=0, max=20), HTML(value='')))"
      ]
     },
     "metadata": {},
     "output_type": "display_data"
    },
    {
     "data": {
      "application/vnd.jupyter.widget-view+json": {
       "model_id": "1672c41f096a478996f08ac47a1bf69d",
       "version_major": 2,
       "version_minor": 0
      },
      "text/plain": [
       "HBox(children=(IntProgress(value=0, max=20), HTML(value='')))"
      ]
     },
     "metadata": {},
     "output_type": "display_data"
    },
    {
     "data": {
      "application/vnd.jupyter.widget-view+json": {
       "model_id": "cc4041d9cea4427a80fec44524d0b216",
       "version_major": 2,
       "version_minor": 0
      },
      "text/plain": [
       "HBox(children=(IntProgress(value=0, max=20), HTML(value='')))"
      ]
     },
     "metadata": {},
     "output_type": "display_data"
    },
    {
     "data": {
      "application/vnd.jupyter.widget-view+json": {
       "model_id": "77fe9c8daa4048b698a80e0253d09e86",
       "version_major": 2,
       "version_minor": 0
      },
      "text/plain": [
       "HBox(children=(IntProgress(value=0, max=20), HTML(value='')))"
      ]
     },
     "metadata": {},
     "output_type": "display_data"
    },
    {
     "data": {
      "application/vnd.jupyter.widget-view+json": {
       "model_id": "f290e604750d447ea05605b67dd4945d",
       "version_major": 2,
       "version_minor": 0
      },
      "text/plain": [
       "HBox(children=(IntProgress(value=0, max=20), HTML(value='')))"
      ]
     },
     "metadata": {},
     "output_type": "display_data"
    },
    {
     "data": {
      "application/vnd.jupyter.widget-view+json": {
       "model_id": "2112dd6ce4eb4aedbe010cbcf291de68",
       "version_major": 2,
       "version_minor": 0
      },
      "text/plain": [
       "HBox(children=(IntProgress(value=0, max=20), HTML(value='')))"
      ]
     },
     "metadata": {},
     "output_type": "display_data"
    },
    {
     "name": "stdout",
     "output_type": "stream",
     "text": [
      "Training until validation scores don't improve for 500 rounds.\n",
      "[100]\tvalid_0's auc: 0.698496\n",
      "[200]\tvalid_0's auc: 0.704722\n",
      "[300]\tvalid_0's auc: 0.70897\n",
      "[400]\tvalid_0's auc: 0.711173\n",
      "[500]\tvalid_0's auc: 0.712323\n",
      "[600]\tvalid_0's auc: 0.711667\n",
      "[700]\tvalid_0's auc: 0.711298\n",
      "[800]\tvalid_0's auc: 0.711315\n",
      "[900]\tvalid_0's auc: 0.710469\n",
      "[1000]\tvalid_0's auc: 0.708414\n",
      "Early stopping, best iteration is:\n",
      "[528]\tvalid_0's auc: 0.712588\n",
      "\n"
     ]
    }
   ],
   "source": [
    "param_lgb = {\n",
    "    'bagging_fraction': 0.8,\n",
    "    'bagging_freq': 1,\n",
    "    'boost': 'gbdt',\n",
    "    'feature_fraction': 0.8,\n",
    "    'learning_rate': 0.01,\n",
    "    'metric':'auc',\n",
    "    'num_leaves': 31,\n",
    "    'num_threads': 8,\n",
    "    'objective': 'binary',\n",
    "}\n",
    "\n",
    "excluded_cols = {'goal1', 'goal21', 'goal22', 'goal23', 'goal24', 'goal25', 'orderid'}\n",
    "train_cols = list(set(data.columns) - excluded_cols)\n",
    "\n",
    "\n",
    "kf = RepeatedStratifiedGroupKFold(n_splits=10)\n",
    "\n",
    "\n",
    "pred = pd.DataFrame()\n",
    "score = []\n",
    "\n",
    "for i , (train_index, test_index) in enumerate(kf.split(data.loc[train_idx, :], \n",
    "                                                        data.loc[train_idx, 'goal1'].astype('int'),\n",
    "                                                        groups=data.loc[train_idx, 'userid'],\n",
    "                                                       )):\n",
    "    data = feature_engineering(data, data.iloc[train_index])\n",
    "    X_train, y_train = data.loc[train_index, train_cols], data.loc[train_index, 'goal1']\n",
    "    X_test, y_test = data.loc[test_index, train_cols], data.loc[test_index, 'goal1']\n",
    "    tr = lgb.Dataset(np.array(X_train), np.array(y_train))\n",
    "    te = lgb.Dataset(np.array(X_test), np.array(y_test), reference=tr)\n",
    "    bst = lgb.train(param_lgb, tr, num_boost_round=10000, \n",
    "            valid_sets=te, early_stopping_rounds=int(5 / param_lgb['learning_rate']), verbose_eval=100)\n",
    "    score.append(bst.best_score['valid_0']['auc'])\n",
    "    \n",
    "    pred[str(i)] = bst.predict(data.loc[test_idx, train_cols])"
   ]
  },
  {
   "cell_type": "code",
   "execution_count": 13,
   "metadata": {},
   "outputs": [],
   "source": [
    "scores_df = pd.read_csv('val_scores.csv')\n",
    "scores_df.columns = scores_df.columns.astype('int')\n",
    "scores_df = scores_df.append(pd.Series(score, index=range(10)), ignore_index=True)\n",
    "scores_df.to_csv('val_scores.csv', index=False)"
   ]
  },
  {
   "cell_type": "code",
   "execution_count": 17,
   "metadata": {},
   "outputs": [],
   "source": [
    "pred.index = data.loc[test_idx, 'orderid'] - ltr\n",
    "pred = pred.sort_index()"
   ]
  },
  {
   "cell_type": "code",
   "execution_count": 19,
   "metadata": {},
   "outputs": [],
   "source": [
    "ans = pd.DataFrame(index=pred.index)\n",
    "\n",
    "ans['proba'] = pred.mean(axis=1)\n",
    "ans.to_csv('mean.csv')\n",
    "\n",
    "cv_weights = score / sum(score)\n",
    "ans['proba'] = (cv_weights * pred).sum(axis=1)\n",
    "ans.to_csv('cv_weights.csv')"
   ]
  }
 ],
 "metadata": {
  "kernelspec": {
   "display_name": "Python 3",
   "language": "python",
   "name": "python3"
  },
  "language_info": {
   "codemirror_mode": {
    "name": "ipython",
    "version": 3
   },
   "file_extension": ".py",
   "mimetype": "text/x-python",
   "name": "python",
   "nbconvert_exporter": "python",
   "pygments_lexer": "ipython3",
   "version": "3.7.3"
  }
 },
 "nbformat": 4,
 "nbformat_minor": 2
}
